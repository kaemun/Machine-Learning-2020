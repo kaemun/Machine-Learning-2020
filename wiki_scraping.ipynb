{
 "cells": [
  {
   "cell_type": "markdown",
   "metadata": {},
   "source": [
    "# Wiki Table Scraping"
   ]
  },
  {
   "cell_type": "code",
   "execution_count": 1,
   "metadata": {},
   "outputs": [],
   "source": [
    "import os\n",
    "import re\n",
    "import pandas as pd\n",
    "import numpy as np\n",
    "import requests\n",
    "import urllib.parse\n",
    "from bs4 import BeautifulSoup"
   ]
  },
  {
   "cell_type": "code",
   "execution_count": 2,
   "metadata": {},
   "outputs": [],
   "source": [
    "baseurl = 'https://en.wikipedia.org/wiki'\n",
    "myurl = urllib.parse.urljoin(baseurl, 'wiki/S%26P_100')\n",
    "r = requests.get(myurl)\n",
    "soup_r = r.text"
   ]
  },
  {
   "cell_type": "raw",
   "metadata": {},
   "source": [
    "r.text.encode('utf-8')"
   ]
  },
  {
   "cell_type": "code",
   "execution_count": 3,
   "metadata": {},
   "outputs": [],
   "source": [
    "soup = BeautifulSoup(soup_r, 'lxml')"
   ]
  },
  {
   "cell_type": "code",
   "execution_count": 4,
   "metadata": {},
   "outputs": [
    {
     "name": "stdout",
     "output_type": "stream",
     "text": [
      "!DOCTYPE html>\n",
      "<html class=\"client-nojs\" dir=\"ltr\" lang=\"en\">\n",
      " <head>\n",
      "  <meta charset=\"utf-8\"/>\n",
      "  <title>\n",
      "   S&amp;P 100 - Wikipedia\n",
      "  </title>\n",
      "  <script>\n",
      "   document.documentElement.className=\"client-js\";RLCONF={\"wgBreakFrames\":!1,\"wgSeparatorTransformTable\":[\"\",\"\"],\"wgDigitTransformTable\":[\"\",\"\"],\"wgDefaultDateFormat\":\"dmy\",\"wgMonthNames\":[\"\",\"January\",\"February\",\"March\",\"April\",\"May\",\"June\",\"July\",\"August\",\"September\",\"October\",\"November\",\"December\"],\"wgMonthNamesShort\":[\"\",\"Jan\",\"Feb\",\"Mar\",\"Apr\",\"May\",\"Jun\",\"Jul\",\"Aug\",\"Sep\",\"Oct\",\"Nov\",\"Dec\"],\"wgRequestId\":\"XlGE5QpAICwAABuEwyEAAABA\",\"wgCSPNonce\":!1,\"wgCanonicalNamespace\":\"\",\"wgCanonicalSpecialPageName\":!1,\"wgNamespaceNumber\":0,\"wgPageName\":\"S\\u0026P_100\",\"wgTitle\":\"S\\u0026P 100\",\"wgCurRevisionId\":938082694,\"wgRevisionId\":938082694,\"wgArticleId\":2658424,\"wgIsArticle\":!0,\"wgIsRedirect\":!1,\"wgAction\":\"view\",\"wgUserName\":null,\"wgUserGroups\":[\"*\"],\"wgCategories\":[\"Articles with short description\",\"American stock market indices\",\"S\\u0026P Dow Jones Indices\"],\"wgPageContentLanguage\":\"en\",\"wgPageContentModel\":\"wikitext\",\"wgRelevantPageName\":\"S\\u0026P_100\",\"wgRelevantArticleId\":\n",
      "2658424,\"wgIsProbablyEditable\":!0,\"wgRelevantPageIsProbablyEditable\":!0,\"wgRestrictionEdit\":[],\"wgRestrictionMove\":[],\"wgMediaViewerOnClick\":!0,\"wgMediaViewerEnabledByDefault\":!0,\"wgPopupsReferencePreviews\":!1,\"wgPopupsConflictsWithNavPopupGadget\":!1,\"wgVisualEditor\":{\"pageLanguageCode\":\"en\",\"pageLanguageDir\":\"ltr\",\"pageVariantFallbacks\":\"en\"},\"wgMFDisplayWikibaseDescriptions\":{\"search\":!0,\"nearby\":!0,\"watchlist\":!0,\"tagline\":!1},\"wgWMESchemaEditAttemptStepOversample\":!1,\"wgULSCurrentAutonym\":\"English\",\"wgNoticeProject\":\"wikipedia\",\"wgWikibaseItemId\":\"Q1546793\",\"wgCentralAuthMobileDomain\":!1,\"wgEditSubmitButtonLabelPublish\":!0};RLSTATE={\"ext.globalCssJs.user.styles\":\"ready\",\"site.styles\":\"ready\",\"noscript\":\"ready\",\"user.styles\":\"ready\",\"ext.globalCssJs.user\":\"ready\",\"user\":\"ready\",\"user.options\":\"ready\",\"user.tokens\":\"loading\",\"ext.cite.styles\":\"ready\",\"mediawiki.legacy.shared\":\"ready\",\"mediawiki.legacy.commonPrint\":\"ready\",\"jquery.tablesorter.styles\":\n",
      "\"ready\",\"mediawiki.toc.styles\":\"ready\",\"skins.vector.styles\":\"ready\",\"wikibase.client.init\":\"ready\",\"ext.visualEditor.desktopArticleTarget.noscript\":\"ready\",\"ext.uls.interlanguage\":\"ready\",\"ext.wikimediaBadges\":\"ready\"};RLPAGEMODULES=[\"ext.cite.ux-enhancements\",\"site\",\"mediawiki.page.startup\",\"skins.vector.js\",\"mediawiki.page.ready\",\"jquery.tablesorter\",\"mediawiki.toc\",\"ext.gadget.ReferenceTooltips\",\"ext.gadget.watchlist-notice\",\"ext.gadget.DRN-wizard\",\"ext.gadget.charinsert\",\"ext.gadget.refToolbar\",\"ext.gadget.extra-toolbar-buttons\",\"ext.gadget.switcher\",\"ext.centralauth.centralautologin\",\"ext.popups\",\"ext.visualEditor.desktopArticleTarget.init\",\"ext.visualEditor.targetLoader\",\"ext.eventLogging\",\"ext.wikimediaEvents\",\"ext.navigationTiming\",\"ext.uls.compactlinks\",\"ext.uls.interface\",\"ext.cx.eventlogging.campaigns\",\"ext.quicksurveys.init\",\"ext.centralNotice.geoIP\",\"ext.centralNotice.startUp\"];\n",
      "  </script>\n",
      "  <script>\n",
      "   (RLQ=window.RLQ||[]).push(function(){mw.loader.implement(\"user.tokens@tffin\",function($,jQuery,require,module){/*@nomin*/mw.user.tokens.set({\"patrolToken\":\"+\\\\\",\"watchToken\":\"+\\\\\",\"csrfToken\":\"+\\\\\"});\n",
      "});});\n",
      "  </script>\n",
      "  <link href=\"/w/load.php?lang=en&amp;modules=ext.cite.styles%7Cext.uls.interlanguage%7Cext.visualEditor.desktopArticleTarget.noscript%7Cext.wikimediaBadges%7Cjquery.tablesorter.styles%7Cmediawiki.legacy.commonPrint%2Cshared%7Cmediawiki.toc.styles%7Cskins.vector.styles%7Cwikibase.client.init&amp;only=styles&amp;skin=vector\" rel=\"stylesheet\"/>\n",
      "  <script async=\"\" src=\"/w/load.php?lang=en&amp;modules=startup&amp;only=scripts&amp;raw=1&amp;skin=vector\">\n",
      "  </script>\n",
      "  <meta content=\"\" name=\"ResourceLoaderDynamicStyles\"/>\n",
      "  <link href=\"/w/load.php?lang=en&amp;modules=site.styles&amp;only=styles&amp;skin=vector\" rel=\"stylesheet\"/>\n",
      "  <meta content=\"MediaWiki 1.35.0-wmf.20\" name=\"generator\"/>\n",
      "  <meta content=\"origin\" name=\"referrer\"/>\n",
      "  <meta content=\"origin-when-crossorigin\" name=\"referrer\"/>\n",
      "  <meta content=\"origin-when-cross-origin\" name=\"referrer\"/>\n",
      "  <link href=\"/w/index.php?title=S%26P_100&amp;action=edit\" rel=\"alternate\" title=\"Edit this page\" type=\"application/x-wiki\"/>\n",
      "  <link href=\"/w/index.php?title=S%26P_100&amp;action=edit\" rel=\"edit\" title=\"Edit this page\"/>\n",
      "  <link href=\"/static/apple-touch/wikipedia.png\" rel=\"apple-touch-icon\"/>\n",
      "  <link href=\"/static/favicon/wikipedia.ico\" rel=\"shortcut icon\"/>\n",
      "  <link href=\"/w/opensearch_desc.php\" rel=\"search\" title=\"Wikipedia (en)\" type=\"application/opensearchdescription+xml\"/>\n",
      "  <link href=\"//en.wikipedia.org/w/api.php?action=rsd\" rel=\"EditURI\" type=\"application/rsd+xml\"/>\n",
      "  <link href=\"//creativecommons.org/licenses/by-sa/3.0/\" rel=\"license\"/>\n",
      "  <link href=\"/w/index.php?title=Special:RecentChanges&amp;feed=atom\" rel=\"alternate\" title=\"Wikipedia Atom feed\" type=\"application/atom+xml\"/>\n",
      "  <link href=\"https://en.wikipedia.org/wiki/S%26P_100\" rel=\"canonical\"/>\n",
      "  <lin\n"
     ]
    }
   ],
   "source": [
    "print(soup.prettify()[1:5000])"
   ]
  },
  {
   "cell_type": "code",
   "execution_count": 5,
   "metadata": {
    "scrolled": true
   },
   "outputs": [],
   "source": [
    "Title = soup.title.string"
   ]
  },
  {
   "cell_type": "code",
   "execution_count": 6,
   "metadata": {},
   "outputs": [],
   "source": [
    "tables = soup.find_all('table',{'class': 'wikitable sortable'})\n",
    "my_table = tables[0]"
   ]
  },
  {
   "cell_type": "code",
   "execution_count": 7,
   "metadata": {},
   "outputs": [],
   "source": [
    "my_cells = my_table.find_all('td')\n",
    "Cells = []\n",
    "for cells in my_cells:\n",
    "    contents = ''\n",
    "    for c in cells.stripped_strings:\n",
    "        contents = contents + c\n",
    "    Cells.append(contents)"
   ]
  },
  {
   "cell_type": "markdown",
   "metadata": {},
   "source": [
    "To dael with Google, for example."
   ]
  },
  {
   "cell_type": "code",
   "execution_count": 8,
   "metadata": {},
   "outputs": [],
   "source": [
    "my_label = my_table.find_all('th')\n",
    "Labels = []\n",
    "for labels in my_label:\n",
    "    labelname = ''\n",
    "    for n in labels.stripped_strings:\n",
    "        labelname = labelname + n\n",
    "    Labels.append(n)\n",
    "for i, n in enumerate(Labels):\n",
    "    globals()[n] = Cells[i::len(Labels)]\n",
    "    #print('<', n, '>', 'is saved as a global object')"
   ]
  },
  {
   "cell_type": "code",
   "execution_count": 9,
   "metadata": {},
   "outputs": [],
   "source": [
    "my_links = my_table.find_all('a')\n",
    "for key in my_links[0].attrs.keys():\n",
    "    globals()[key] = []\n",
    "    #print('<', key, '>', 'is saved as a global object')\n",
    "    if key == 'href':\n",
    "        for link in my_links:\n",
    "            hyperlink = urllib.parse.urljoin(baseurl, link.get(key))\n",
    "            globals()[key].append(hyperlink)\n",
    "    else:\n",
    "        for link in my_links:\n",
    "            globals()[key].append(link.get(key))"
   ]
  },
  {
   "cell_type": "markdown",
   "metadata": {},
   "source": [
    "href\n",
    "'/wiki/Apple_Inc.'\n",
    "'https://en.wikipedia.org/wiki/Apple_Inc.'"
   ]
  },
  {
   "cell_type": "markdown",
   "metadata": {},
   "source": [
    "For example, \n",
    "\n",
    "('Capital One', 'Capital One Financial Corp.') <br>\n",
    "('Emerson Electric', 'Emerson Electric Co.') <br>\n",
    "('Alphabet Inc.', 'Alphabet Inc.(Class C)') <br>\n",
    "('Alphabet Inc.', 'Alphabet Inc.(Class A)') <br>\n",
    "('IBM', 'International Business Machines') <br>\n",
    "\n",
    "```python\n",
    "for n in zip(title, Name):\n",
    "    if n[0]!=n[1]:\n",
    "        print(n)\n",
    "```"
   ]
  },
  {
   "cell_type": "code",
   "execution_count": 10,
   "metadata": {},
   "outputs": [
    {
     "data": {
      "text/html": [
       "<div>\n",
       "<style scoped>\n",
       "    .dataframe tbody tr th:only-of-type {\n",
       "        vertical-align: middle;\n",
       "    }\n",
       "\n",
       "    .dataframe tbody tr th {\n",
       "        vertical-align: top;\n",
       "    }\n",
       "\n",
       "    .dataframe thead th {\n",
       "        text-align: right;\n",
       "    }\n",
       "</style>\n",
       "<table border=\"1\" class=\"dataframe\">\n",
       "  <thead>\n",
       "    <tr style=\"text-align: right;\">\n",
       "      <th></th>\n",
       "      <th>Symbol</th>\n",
       "      <th>Name</th>\n",
       "      <th>Links</th>\n",
       "    </tr>\n",
       "  </thead>\n",
       "  <tbody>\n",
       "    <tr>\n",
       "      <td>0</td>\n",
       "      <td>AAPL</td>\n",
       "      <td>Apple Inc.</td>\n",
       "      <td>https://en.wikipedia.org/wiki/Apple_Inc.</td>\n",
       "    </tr>\n",
       "    <tr>\n",
       "      <td>1</td>\n",
       "      <td>ABBV</td>\n",
       "      <td>AbbVie Inc.</td>\n",
       "      <td>https://en.wikipedia.org/wiki/AbbVie_Inc.</td>\n",
       "    </tr>\n",
       "    <tr>\n",
       "      <td>2</td>\n",
       "      <td>ABT</td>\n",
       "      <td>Abbott Laboratories</td>\n",
       "      <td>https://en.wikipedia.org/wiki/Abbott_Laboratories</td>\n",
       "    </tr>\n",
       "    <tr>\n",
       "      <td>3</td>\n",
       "      <td>ACN</td>\n",
       "      <td>Accenture</td>\n",
       "      <td>https://en.wikipedia.org/wiki/Accenture</td>\n",
       "    </tr>\n",
       "    <tr>\n",
       "      <td>4</td>\n",
       "      <td>ADBE</td>\n",
       "      <td>Adobe Inc.</td>\n",
       "      <td>https://en.wikipedia.org/wiki/Adobe_Inc.</td>\n",
       "    </tr>\n",
       "    <tr>\n",
       "      <td>...</td>\n",
       "      <td>...</td>\n",
       "      <td>...</td>\n",
       "      <td>...</td>\n",
       "    </tr>\n",
       "    <tr>\n",
       "      <td>96</td>\n",
       "      <td>VZ</td>\n",
       "      <td>Verizon Communications</td>\n",
       "      <td>https://en.wikipedia.org/wiki/Verizon_Communic...</td>\n",
       "    </tr>\n",
       "    <tr>\n",
       "      <td>97</td>\n",
       "      <td>WBA</td>\n",
       "      <td>Walgreens Boots Alliance</td>\n",
       "      <td>https://en.wikipedia.org/wiki/Walgreens_Boots_...</td>\n",
       "    </tr>\n",
       "    <tr>\n",
       "      <td>98</td>\n",
       "      <td>WFC</td>\n",
       "      <td>Wells Fargo</td>\n",
       "      <td>https://en.wikipedia.org/wiki/Wells_Fargo</td>\n",
       "    </tr>\n",
       "    <tr>\n",
       "      <td>99</td>\n",
       "      <td>WMT</td>\n",
       "      <td>Walmart</td>\n",
       "      <td>https://en.wikipedia.org/wiki/Walmart</td>\n",
       "    </tr>\n",
       "    <tr>\n",
       "      <td>100</td>\n",
       "      <td>XOM</td>\n",
       "      <td>Exxon Mobil Corp.</td>\n",
       "      <td>https://en.wikipedia.org/wiki/ExxonMobil</td>\n",
       "    </tr>\n",
       "  </tbody>\n",
       "</table>\n",
       "<p>101 rows × 3 columns</p>\n",
       "</div>"
      ],
      "text/plain": [
       "    Symbol                      Name  \\\n",
       "0     AAPL                Apple Inc.   \n",
       "1     ABBV               AbbVie Inc.   \n",
       "2      ABT       Abbott Laboratories   \n",
       "3      ACN                 Accenture   \n",
       "4     ADBE                Adobe Inc.   \n",
       "..     ...                       ...   \n",
       "96      VZ    Verizon Communications   \n",
       "97     WBA  Walgreens Boots Alliance   \n",
       "98     WFC               Wells Fargo   \n",
       "99     WMT                   Walmart   \n",
       "100    XOM         Exxon Mobil Corp.   \n",
       "\n",
       "                                                 Links  \n",
       "0             https://en.wikipedia.org/wiki/Apple_Inc.  \n",
       "1            https://en.wikipedia.org/wiki/AbbVie_Inc.  \n",
       "2    https://en.wikipedia.org/wiki/Abbott_Laboratories  \n",
       "3              https://en.wikipedia.org/wiki/Accenture  \n",
       "4             https://en.wikipedia.org/wiki/Adobe_Inc.  \n",
       "..                                                 ...  \n",
       "96   https://en.wikipedia.org/wiki/Verizon_Communic...  \n",
       "97   https://en.wikipedia.org/wiki/Walgreens_Boots_...  \n",
       "98           https://en.wikipedia.org/wiki/Wells_Fargo  \n",
       "99               https://en.wikipedia.org/wiki/Walmart  \n",
       "100           https://en.wikipedia.org/wiki/ExxonMobil  \n",
       "\n",
       "[101 rows x 3 columns]"
      ]
     },
     "execution_count": 10,
     "metadata": {},
     "output_type": "execute_result"
    }
   ],
   "source": [
    "df = pd.DataFrame()\n",
    "for c in Labels:\n",
    "    df[c] = globals()[c]\n",
    "df['Links'] = href\n",
    "\n",
    "df"
   ]
  },
  {
   "cell_type": "code",
   "execution_count": 11,
   "metadata": {},
   "outputs": [],
   "source": [
    "df.to_csv(\"S&P100_wiki\", sep='\\t', encoding='utf-8')"
   ]
  }
 ],
 "metadata": {
  "kernelspec": {
   "display_name": "Python 3",
   "language": "python",
   "name": "python3"
  },
  "language_info": {
   "codemirror_mode": {
    "name": "ipython",
    "version": 3
   },
   "file_extension": ".py",
   "mimetype": "text/x-python",
   "name": "python",
   "nbconvert_exporter": "python",
   "pygments_lexer": "ipython3",
   "version": "3.7.4"
  }
 },
 "nbformat": 4,
 "nbformat_minor": 2
}
