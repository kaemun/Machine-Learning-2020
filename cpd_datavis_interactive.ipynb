{
 "cells": [
  {
   "cell_type": "markdown",
   "metadata": {},
   "source": [
    "# CPD Data Visualization\n",
    "\n",
    "---\n",
    "- Date: 11/26/2019\n",
    "- Author: Simon (Hyungjun) Park\n"
   ]
  },
  {
   "cell_type": "code",
   "execution_count": 1,
   "metadata": {},
   "outputs": [],
   "source": [
    "import pandas as pd\n",
    "import numpy as np\n",
    "import os\n",
    "import datetime\n",
    "import copy\n",
    "from zipfile import ZipFile\n",
    "from pathlib import PurePath"
   ]
  },
  {
   "cell_type": "markdown",
   "metadata": {},
   "source": [
    "## Unzip and read CSV files"
   ]
  },
  {
   "cell_type": "code",
   "execution_count": 2,
   "metadata": {},
   "outputs": [],
   "source": [
    "# Set the path\n",
    "git_path = PurePath(os.getcwd())\n",
    "path = git_path.parents[0]"
   ]
  },
  {
   "cell_type": "code",
   "execution_count": 3,
   "metadata": {},
   "outputs": [],
   "source": [
    "# Prepare CSV file names in the zip file, the zip file path, and csv file path(s)\n",
    "cpd_path = os.path.join(path, 'chicago-police-data', 'data')\n",
    "zip_name = [c for c in os.listdir(cpd_path) if c.endswith('.zip')]\n",
    "zip_path = os.path.join(cpd_path, zip_name[0])\n",
    "zip_names = ['/complaints-accused_2000-2016_2016-11.csv.gz',\n",
    "            '/complaints-victims_2000-2016_2016-11.csv.gz',\n",
    "            '/complaints-investigators_2000-2016_2016-11.csv.gz',\n",
    "            '/complaints-complaints_2000-2018_2018-03.csv.gz',\n",
    "            '/roster_1936-2017_2017-04.csv.gz']\n",
    "dis_path = os.path.join(cpd_path, 'context_data/discipline_penalty_codes.csv')"
   ]
  },
  {
   "cell_type": "code",
   "execution_count": 4,
   "metadata": {},
   "outputs": [],
   "source": [
    "# UDF that deals with Unzip and pd.read_csv\n",
    "def read_in_zip_csv(zippath, csvpath, dtype = None):\n",
    "    \"\"\"\n",
    "    Read a single csv file inside a zipfile and returns a pandas data frame.\n",
    "    If a provided csv file path does not have a unique match in the zipfile, returns warning.\n",
    "    The following modules are necessary for this function.\n",
    "    - import pandas as pd\n",
    "    - from zipfile import ZipFile\n",
    "    \n",
    "    Input\n",
    "    --------\n",
    "    zippath: the absolute path for a zip file\n",
    "    \n",
    "    csvpath: the directory of a csv file within the zip file.\n",
    "        It matches with '.endswith', therefore only need to provide the ending directory.\n",
    "    \n",
    "    dtype: if the csv file requries dtype to be specified.\n",
    "        see pandas .read_csv for details.\n",
    "    \n",
    "    Return\n",
    "    -------\n",
    "    If there is a unique match:\n",
    "        A dataframe\n",
    "    \n",
    "    If there is no match:\n",
    "        A warning\n",
    "    \n",
    "    If there is multiple match:\n",
    "        A warning and match values\n",
    "\n",
    "    \"\"\"\n",
    "    with ZipFile(zippath) as zf:\n",
    "        print('From', zippath)\n",
    "        csv = [c for c in zf.namelist() if c.endswith(csvpath)]\n",
    "        if len(csv)>1: \n",
    "            print(\"  Multiple match: check the csv file path within the zip file and provide a unique path.\")\n",
    "            for i, f in enumerate(csv): print('Match', i, ':', f)\n",
    "            return()\n",
    "        elif len(csv)<1:\n",
    "            print(\"  No match: check the csv file path within the zip file and provide a unique path.\")\n",
    "            return()\n",
    "        else:\n",
    "            print('  Loading', csv)\n",
    "            if pd.isnull(dtype):\n",
    "                df = pd.read_csv(zf.open(csv[0]), compression='gzip')\n",
    "            else:\n",
    "                df = pd.read_csv(zf.open(csv[0]), compression='gzip', dtype=dtype)\n",
    "    return(df)"
   ]
  },
  {
   "cell_type": "code",
   "execution_count": 5,
   "metadata": {
    "scrolled": true
   },
   "outputs": [
    {
     "name": "stderr",
     "output_type": "stream",
     "text": [
      "C:\\ProgramData\\Anaconda3\\lib\\site-packages\\IPython\\core\\interactiveshell.py:3058: DtypeWarning: Columns (5,6,15) have mixed types. Specify dtype option on import or set low_memory=False.\n",
      "  interactivity=interactivity, compiler=compiler, result=result)\n"
     ]
    }
   ],
   "source": [
    "# Read CSV files\n",
    "df_acc = pd.read_csv(os.getcwd() + '/complaints-accused_2000-2016_2016-11.csv.gz')\n",
    "df_vic = pd.read_csv(os.getcwd() + '/complaints-victims_2000-2016_2016-11.csv.gz')\n",
    "df_inv = pd.read_csv(os.getcwd() + '/complaints-investigators_2000-2016_2016-11.csv.gz')\n",
    "df_cmpl = pd.read_csv(os.getcwd() + '/complaints-complaints_2000-2018_2018-03.csv.gz')\n",
    "df_roster = pd.read_csv(os.getcwd() + '/roster_1936-2017_2017-04.csv')\n",
    "df_dis = pd.read_csv(os.getcwd() + '/discipline_penalty_codes.csv')"
   ]
  },
  {
   "cell_type": "code",
   "execution_count": 6,
   "metadata": {},
   "outputs": [],
   "source": [
    "# cleanup df_roaster\n",
    "df_roster = df_roster.drop(columns = ['row_id'])"
   ]
  },
  {
   "cell_type": "code",
   "execution_count": 7,
   "metadata": {},
   "outputs": [],
   "source": [
    "# cleanup df_acc\n",
    "df_acc = df_acc.drop(columns = ['row_id'])\\\n",
    "               .merge(df_roster,\n",
    "                      on = ['UID','old_UID', 'link_UID'], how = 'left') \\\n",
    "               .merge(df_dis,\n",
    "                      left_on ='recommended_discipline', \n",
    "                      right_on = 'CODE' ,how = 'left').drop(columns = ['CODE','NOTES'])\\\n",
    "               .merge(df_dis, \n",
    "                      left_on ='final_discipline', \n",
    "                      right_on = 'CODE', how = 'left').drop(columns = ['CODE','NOTES'])\\\n",
    "               .rename(columns={'complaints-accused_2000-2016_2016-11_ID': 'complaints-accused_id',\n",
    "                              'recommended_discipline': 'REC_DSPLN_code',\n",
    "                              'final_discipline': 'FIN_DSPLN_code',\n",
    "                              'recommended_finding': 'REC_finding',\n",
    "                              'final_finding': 'FIN_finding',\n",
    "                              'ACTION_TAKEN_x': 'REC_DSPLN',\n",
    "                              'ACTION_TAKEN_y': 'FIN_DSPLN'})"
   ]
  },
  {
   "cell_type": "code",
   "execution_count": 8,
   "metadata": {},
   "outputs": [],
   "source": [
    "# cleanup df_inv\n",
    "df_inv = df_inv.drop(columns = ['row_id'])\\\n",
    "               .rename(columns = {'complaints-investigators_2000-2016_2016-11_ID': 'complaints-investigators_id'})"
   ]
  },
  {
   "cell_type": "code",
   "execution_count": 9,
   "metadata": {},
   "outputs": [],
   "source": [
    "# cleanup df_vic\n",
    "df_vic = df_vic.rename(columns={'gender':'gender_vic',\n",
    "                              'age': 'age_vic',\n",
    "                              'race': 'race_vic'})"
   ]
  },
  {
   "cell_type": "code",
   "execution_count": 10,
   "metadata": {},
   "outputs": [],
   "source": [
    "# cleanup df_cmpl\n",
    "df_cmpl = df_cmpl.drop(columns = ['row_id']) \\\n",
    "                 .assign(complaint_year  = lambda df: pd.to_datetime(df.complaint_date).dt.year.astype(str)) \\\n",
    "                 .assign(complaint_month = lambda df: pd.to_datetime(df.complaint_date).dt.month.astype(str))\\\n",
    "                 .assign(complaint_year_month = lambda df: df.complaint_year.str.cat(df.complaint_month, sep='/'))"
   ]
  },
  {
   "cell_type": "code",
   "execution_count": 11,
   "metadata": {},
   "outputs": [],
   "source": [
    "# merge all datasets\n",
    "df_all = df_acc.merge(df_inv, on = 'cr_id', how = 'left',suffixes=('_acc', '_inv')) \\\n",
    "               .merge(df_vic, on = 'cr_id', how = 'left') \\\n",
    "               .merge(df_cmpl, on = 'cr_id', how = 'left') \\"
   ]
  },
  {
   "cell_type": "markdown",
   "metadata": {},
   "source": [
    "## Interactive Data Visualization via Bokeh\n",
    "\n",
    "**Note**: The following codes are written based on Bokeh version 1.3.4.  [The latest version of Bokeh (1.4.0)](https://docs.bokeh.org/en/latest/docs/releases.html), which was release October 2019, deprecated `legend` keyword argument and  replaced it with `legend_label`, `legend_field`, `legend_group`. If you use version 1.4.0, some warning messages may appear due to the version conflict. However, this warning doesn't matter our results or if the warning annoys you, please replace our `legend` argument with `legend_label` (We ensured the whole codes works with `legend_label` under version 1.4.0)."
   ]
  },
  {
   "cell_type": "code",
   "execution_count": 12,
   "metadata": {},
   "outputs": [
    {
     "data": {
      "text/html": [
       "\n",
       "    <div class=\"bk-root\">\n",
       "        <a href=\"https://bokeh.pydata.org\" target=\"_blank\" class=\"bk-logo bk-logo-small bk-logo-notebook\"></a>\n",
       "        <span id=\"1001\">Loading BokehJS ...</span>\n",
       "    </div>"
      ]
     },
     "metadata": {},
     "output_type": "display_data"
    },
    {
     "data": {
      "application/javascript": [
       "\n",
       "(function(root) {\n",
       "  function now() {\n",
       "    return new Date();\n",
       "  }\n",
       "\n",
       "  var force = true;\n",
       "\n",
       "  if (typeof root._bokeh_onload_callbacks === \"undefined\" || force === true) {\n",
       "    root._bokeh_onload_callbacks = [];\n",
       "    root._bokeh_is_loading = undefined;\n",
       "  }\n",
       "\n",
       "  var JS_MIME_TYPE = 'application/javascript';\n",
       "  var HTML_MIME_TYPE = 'text/html';\n",
       "  var EXEC_MIME_TYPE = 'application/vnd.bokehjs_exec.v0+json';\n",
       "  var CLASS_NAME = 'output_bokeh rendered_html';\n",
       "\n",
       "  /**\n",
       "   * Render data to the DOM node\n",
       "   */\n",
       "  function render(props, node) {\n",
       "    var script = document.createElement(\"script\");\n",
       "    node.appendChild(script);\n",
       "  }\n",
       "\n",
       "  /**\n",
       "   * Handle when an output is cleared or removed\n",
       "   */\n",
       "  function handleClearOutput(event, handle) {\n",
       "    var cell = handle.cell;\n",
       "\n",
       "    var id = cell.output_area._bokeh_element_id;\n",
       "    var server_id = cell.output_area._bokeh_server_id;\n",
       "    // Clean up Bokeh references\n",
       "    if (id != null && id in Bokeh.index) {\n",
       "      Bokeh.index[id].model.document.clear();\n",
       "      delete Bokeh.index[id];\n",
       "    }\n",
       "\n",
       "    if (server_id !== undefined) {\n",
       "      // Clean up Bokeh references\n",
       "      var cmd = \"from bokeh.io.state import curstate; print(curstate().uuid_to_server['\" + server_id + \"'].get_sessions()[0].document.roots[0]._id)\";\n",
       "      cell.notebook.kernel.execute(cmd, {\n",
       "        iopub: {\n",
       "          output: function(msg) {\n",
       "            var id = msg.content.text.trim();\n",
       "            if (id in Bokeh.index) {\n",
       "              Bokeh.index[id].model.document.clear();\n",
       "              delete Bokeh.index[id];\n",
       "            }\n",
       "          }\n",
       "        }\n",
       "      });\n",
       "      // Destroy server and session\n",
       "      var cmd = \"import bokeh.io.notebook as ion; ion.destroy_server('\" + server_id + \"')\";\n",
       "      cell.notebook.kernel.execute(cmd);\n",
       "    }\n",
       "  }\n",
       "\n",
       "  /**\n",
       "   * Handle when a new output is added\n",
       "   */\n",
       "  function handleAddOutput(event, handle) {\n",
       "    var output_area = handle.output_area;\n",
       "    var output = handle.output;\n",
       "\n",
       "    // limit handleAddOutput to display_data with EXEC_MIME_TYPE content only\n",
       "    if ((output.output_type != \"display_data\") || (!output.data.hasOwnProperty(EXEC_MIME_TYPE))) {\n",
       "      return\n",
       "    }\n",
       "\n",
       "    var toinsert = output_area.element.find(\".\" + CLASS_NAME.split(' ')[0]);\n",
       "\n",
       "    if (output.metadata[EXEC_MIME_TYPE][\"id\"] !== undefined) {\n",
       "      toinsert[toinsert.length - 1].firstChild.textContent = output.data[JS_MIME_TYPE];\n",
       "      // store reference to embed id on output_area\n",
       "      output_area._bokeh_element_id = output.metadata[EXEC_MIME_TYPE][\"id\"];\n",
       "    }\n",
       "    if (output.metadata[EXEC_MIME_TYPE][\"server_id\"] !== undefined) {\n",
       "      var bk_div = document.createElement(\"div\");\n",
       "      bk_div.innerHTML = output.data[HTML_MIME_TYPE];\n",
       "      var script_attrs = bk_div.children[0].attributes;\n",
       "      for (var i = 0; i < script_attrs.length; i++) {\n",
       "        toinsert[toinsert.length - 1].firstChild.setAttribute(script_attrs[i].name, script_attrs[i].value);\n",
       "      }\n",
       "      // store reference to server id on output_area\n",
       "      output_area._bokeh_server_id = output.metadata[EXEC_MIME_TYPE][\"server_id\"];\n",
       "    }\n",
       "  }\n",
       "\n",
       "  function register_renderer(events, OutputArea) {\n",
       "\n",
       "    function append_mime(data, metadata, element) {\n",
       "      // create a DOM node to render to\n",
       "      var toinsert = this.create_output_subarea(\n",
       "        metadata,\n",
       "        CLASS_NAME,\n",
       "        EXEC_MIME_TYPE\n",
       "      );\n",
       "      this.keyboard_manager.register_events(toinsert);\n",
       "      // Render to node\n",
       "      var props = {data: data, metadata: metadata[EXEC_MIME_TYPE]};\n",
       "      render(props, toinsert[toinsert.length - 1]);\n",
       "      element.append(toinsert);\n",
       "      return toinsert\n",
       "    }\n",
       "\n",
       "    /* Handle when an output is cleared or removed */\n",
       "    events.on('clear_output.CodeCell', handleClearOutput);\n",
       "    events.on('delete.Cell', handleClearOutput);\n",
       "\n",
       "    /* Handle when a new output is added */\n",
       "    events.on('output_added.OutputArea', handleAddOutput);\n",
       "\n",
       "    /**\n",
       "     * Register the mime type and append_mime function with output_area\n",
       "     */\n",
       "    OutputArea.prototype.register_mime_type(EXEC_MIME_TYPE, append_mime, {\n",
       "      /* Is output safe? */\n",
       "      safe: true,\n",
       "      /* Index of renderer in `output_area.display_order` */\n",
       "      index: 0\n",
       "    });\n",
       "  }\n",
       "\n",
       "  // register the mime type if in Jupyter Notebook environment and previously unregistered\n",
       "  if (root.Jupyter !== undefined) {\n",
       "    var events = require('base/js/events');\n",
       "    var OutputArea = require('notebook/js/outputarea').OutputArea;\n",
       "\n",
       "    if (OutputArea.prototype.mime_types().indexOf(EXEC_MIME_TYPE) == -1) {\n",
       "      register_renderer(events, OutputArea);\n",
       "    }\n",
       "  }\n",
       "\n",
       "  \n",
       "  if (typeof (root._bokeh_timeout) === \"undefined\" || force === true) {\n",
       "    root._bokeh_timeout = Date.now() + 5000;\n",
       "    root._bokeh_failed_load = false;\n",
       "  }\n",
       "\n",
       "  var NB_LOAD_WARNING = {'data': {'text/html':\n",
       "     \"<div style='background-color: #fdd'>\\n\"+\n",
       "     \"<p>\\n\"+\n",
       "     \"BokehJS does not appear to have successfully loaded. If loading BokehJS from CDN, this \\n\"+\n",
       "     \"may be due to a slow or bad network connection. Possible fixes:\\n\"+\n",
       "     \"</p>\\n\"+\n",
       "     \"<ul>\\n\"+\n",
       "     \"<li>re-rerun `output_notebook()` to attempt to load from CDN again, or</li>\\n\"+\n",
       "     \"<li>use INLINE resources instead, as so:</li>\\n\"+\n",
       "     \"</ul>\\n\"+\n",
       "     \"<code>\\n\"+\n",
       "     \"from bokeh.resources import INLINE\\n\"+\n",
       "     \"output_notebook(resources=INLINE)\\n\"+\n",
       "     \"</code>\\n\"+\n",
       "     \"</div>\"}};\n",
       "\n",
       "  function display_loaded() {\n",
       "    var el = document.getElementById(\"1001\");\n",
       "    if (el != null) {\n",
       "      el.textContent = \"BokehJS is loading...\";\n",
       "    }\n",
       "    if (root.Bokeh !== undefined) {\n",
       "      if (el != null) {\n",
       "        el.textContent = \"BokehJS \" + root.Bokeh.version + \" successfully loaded.\";\n",
       "      }\n",
       "    } else if (Date.now() < root._bokeh_timeout) {\n",
       "      setTimeout(display_loaded, 100)\n",
       "    }\n",
       "  }\n",
       "\n",
       "\n",
       "  function run_callbacks() {\n",
       "    try {\n",
       "      root._bokeh_onload_callbacks.forEach(function(callback) {\n",
       "        if (callback != null)\n",
       "          callback();\n",
       "      });\n",
       "    } finally {\n",
       "      delete root._bokeh_onload_callbacks\n",
       "    }\n",
       "    console.debug(\"Bokeh: all callbacks have finished\");\n",
       "  }\n",
       "\n",
       "  function load_libs(css_urls, js_urls, callback) {\n",
       "    if (css_urls == null) css_urls = [];\n",
       "    if (js_urls == null) js_urls = [];\n",
       "\n",
       "    root._bokeh_onload_callbacks.push(callback);\n",
       "    if (root._bokeh_is_loading > 0) {\n",
       "      console.debug(\"Bokeh: BokehJS is being loaded, scheduling callback at\", now());\n",
       "      return null;\n",
       "    }\n",
       "    if (js_urls == null || js_urls.length === 0) {\n",
       "      run_callbacks();\n",
       "      return null;\n",
       "    }\n",
       "    console.debug(\"Bokeh: BokehJS not loaded, scheduling load and callback at\", now());\n",
       "    root._bokeh_is_loading = css_urls.length + js_urls.length;\n",
       "\n",
       "    function on_load() {\n",
       "      root._bokeh_is_loading--;\n",
       "      if (root._bokeh_is_loading === 0) {\n",
       "        console.debug(\"Bokeh: all BokehJS libraries/stylesheets loaded\");\n",
       "        run_callbacks()\n",
       "      }\n",
       "    }\n",
       "\n",
       "    function on_error() {\n",
       "      console.error(\"failed to load \" + url);\n",
       "    }\n",
       "\n",
       "    for (var i = 0; i < css_urls.length; i++) {\n",
       "      var url = css_urls[i];\n",
       "      const element = document.createElement(\"link\");\n",
       "      element.onload = on_load;\n",
       "      element.onerror = on_error;\n",
       "      element.rel = \"stylesheet\";\n",
       "      element.type = \"text/css\";\n",
       "      element.href = url;\n",
       "      console.debug(\"Bokeh: injecting link tag for BokehJS stylesheet: \", url);\n",
       "      document.body.appendChild(element);\n",
       "    }\n",
       "\n",
       "    for (var i = 0; i < js_urls.length; i++) {\n",
       "      var url = js_urls[i];\n",
       "      var element = document.createElement('script');\n",
       "      element.onload = on_load;\n",
       "      element.onerror = on_error;\n",
       "      element.async = false;\n",
       "      element.src = url;\n",
       "      console.debug(\"Bokeh: injecting script tag for BokehJS library: \", url);\n",
       "      document.head.appendChild(element);\n",
       "    }\n",
       "  };var element = document.getElementById(\"1001\");\n",
       "  if (element == null) {\n",
       "    console.error(\"Bokeh: ERROR: autoload.js configured with elementid '1001' but no matching script tag was found. \")\n",
       "    return false;\n",
       "  }\n",
       "\n",
       "  function inject_raw_css(css) {\n",
       "    const element = document.createElement(\"style\");\n",
       "    element.appendChild(document.createTextNode(css));\n",
       "    document.body.appendChild(element);\n",
       "  }\n",
       "\n",
       "  var js_urls = [\"https://cdn.pydata.org/bokeh/release/bokeh-1.3.4.min.js\", \"https://cdn.pydata.org/bokeh/release/bokeh-widgets-1.3.4.min.js\", \"https://cdn.pydata.org/bokeh/release/bokeh-tables-1.3.4.min.js\", \"https://cdn.pydata.org/bokeh/release/bokeh-gl-1.3.4.min.js\"];\n",
       "  var css_urls = [];\n",
       "\n",
       "  var inline_js = [\n",
       "    function(Bokeh) {\n",
       "      Bokeh.set_log_level(\"info\");\n",
       "    },\n",
       "    \n",
       "    function(Bokeh) {\n",
       "      \n",
       "    },\n",
       "    function(Bokeh) {} // ensure no trailing comma for IE\n",
       "  ];\n",
       "\n",
       "  function run_inline_js() {\n",
       "    \n",
       "    if ((root.Bokeh !== undefined) || (force === true)) {\n",
       "      for (var i = 0; i < inline_js.length; i++) {\n",
       "        inline_js[i].call(root, root.Bokeh);\n",
       "      }if (force === true) {\n",
       "        display_loaded();\n",
       "      }} else if (Date.now() < root._bokeh_timeout) {\n",
       "      setTimeout(run_inline_js, 100);\n",
       "    } else if (!root._bokeh_failed_load) {\n",
       "      console.log(\"Bokeh: BokehJS failed to load within specified timeout.\");\n",
       "      root._bokeh_failed_load = true;\n",
       "    } else if (force !== true) {\n",
       "      var cell = $(document.getElementById(\"1001\")).parents('.cell').data().cell;\n",
       "      cell.output_area.append_execute_result(NB_LOAD_WARNING)\n",
       "    }\n",
       "\n",
       "  }\n",
       "\n",
       "  if (root._bokeh_is_loading === 0) {\n",
       "    console.debug(\"Bokeh: BokehJS loaded, going straight to plotting\");\n",
       "    run_inline_js();\n",
       "  } else {\n",
       "    load_libs(css_urls, js_urls, function() {\n",
       "      console.debug(\"Bokeh: BokehJS plotting callback run at\", now());\n",
       "      run_inline_js();\n",
       "    });\n",
       "  }\n",
       "}(window));"
      ],
      "application/vnd.bokehjs_load.v0+json": "\n(function(root) {\n  function now() {\n    return new Date();\n  }\n\n  var force = true;\n\n  if (typeof root._bokeh_onload_callbacks === \"undefined\" || force === true) {\n    root._bokeh_onload_callbacks = [];\n    root._bokeh_is_loading = undefined;\n  }\n\n  \n\n  \n  if (typeof (root._bokeh_timeout) === \"undefined\" || force === true) {\n    root._bokeh_timeout = Date.now() + 5000;\n    root._bokeh_failed_load = false;\n  }\n\n  var NB_LOAD_WARNING = {'data': {'text/html':\n     \"<div style='background-color: #fdd'>\\n\"+\n     \"<p>\\n\"+\n     \"BokehJS does not appear to have successfully loaded. If loading BokehJS from CDN, this \\n\"+\n     \"may be due to a slow or bad network connection. Possible fixes:\\n\"+\n     \"</p>\\n\"+\n     \"<ul>\\n\"+\n     \"<li>re-rerun `output_notebook()` to attempt to load from CDN again, or</li>\\n\"+\n     \"<li>use INLINE resources instead, as so:</li>\\n\"+\n     \"</ul>\\n\"+\n     \"<code>\\n\"+\n     \"from bokeh.resources import INLINE\\n\"+\n     \"output_notebook(resources=INLINE)\\n\"+\n     \"</code>\\n\"+\n     \"</div>\"}};\n\n  function display_loaded() {\n    var el = document.getElementById(\"1001\");\n    if (el != null) {\n      el.textContent = \"BokehJS is loading...\";\n    }\n    if (root.Bokeh !== undefined) {\n      if (el != null) {\n        el.textContent = \"BokehJS \" + root.Bokeh.version + \" successfully loaded.\";\n      }\n    } else if (Date.now() < root._bokeh_timeout) {\n      setTimeout(display_loaded, 100)\n    }\n  }\n\n\n  function run_callbacks() {\n    try {\n      root._bokeh_onload_callbacks.forEach(function(callback) {\n        if (callback != null)\n          callback();\n      });\n    } finally {\n      delete root._bokeh_onload_callbacks\n    }\n    console.debug(\"Bokeh: all callbacks have finished\");\n  }\n\n  function load_libs(css_urls, js_urls, callback) {\n    if (css_urls == null) css_urls = [];\n    if (js_urls == null) js_urls = [];\n\n    root._bokeh_onload_callbacks.push(callback);\n    if (root._bokeh_is_loading > 0) {\n      console.debug(\"Bokeh: BokehJS is being loaded, scheduling callback at\", now());\n      return null;\n    }\n    if (js_urls == null || js_urls.length === 0) {\n      run_callbacks();\n      return null;\n    }\n    console.debug(\"Bokeh: BokehJS not loaded, scheduling load and callback at\", now());\n    root._bokeh_is_loading = css_urls.length + js_urls.length;\n\n    function on_load() {\n      root._bokeh_is_loading--;\n      if (root._bokeh_is_loading === 0) {\n        console.debug(\"Bokeh: all BokehJS libraries/stylesheets loaded\");\n        run_callbacks()\n      }\n    }\n\n    function on_error() {\n      console.error(\"failed to load \" + url);\n    }\n\n    for (var i = 0; i < css_urls.length; i++) {\n      var url = css_urls[i];\n      const element = document.createElement(\"link\");\n      element.onload = on_load;\n      element.onerror = on_error;\n      element.rel = \"stylesheet\";\n      element.type = \"text/css\";\n      element.href = url;\n      console.debug(\"Bokeh: injecting link tag for BokehJS stylesheet: \", url);\n      document.body.appendChild(element);\n    }\n\n    for (var i = 0; i < js_urls.length; i++) {\n      var url = js_urls[i];\n      var element = document.createElement('script');\n      element.onload = on_load;\n      element.onerror = on_error;\n      element.async = false;\n      element.src = url;\n      console.debug(\"Bokeh: injecting script tag for BokehJS library: \", url);\n      document.head.appendChild(element);\n    }\n  };var element = document.getElementById(\"1001\");\n  if (element == null) {\n    console.error(\"Bokeh: ERROR: autoload.js configured with elementid '1001' but no matching script tag was found. \")\n    return false;\n  }\n\n  function inject_raw_css(css) {\n    const element = document.createElement(\"style\");\n    element.appendChild(document.createTextNode(css));\n    document.body.appendChild(element);\n  }\n\n  var js_urls = [\"https://cdn.pydata.org/bokeh/release/bokeh-1.3.4.min.js\", \"https://cdn.pydata.org/bokeh/release/bokeh-widgets-1.3.4.min.js\", \"https://cdn.pydata.org/bokeh/release/bokeh-tables-1.3.4.min.js\", \"https://cdn.pydata.org/bokeh/release/bokeh-gl-1.3.4.min.js\"];\n  var css_urls = [];\n\n  var inline_js = [\n    function(Bokeh) {\n      Bokeh.set_log_level(\"info\");\n    },\n    \n    function(Bokeh) {\n      \n    },\n    function(Bokeh) {} // ensure no trailing comma for IE\n  ];\n\n  function run_inline_js() {\n    \n    if ((root.Bokeh !== undefined) || (force === true)) {\n      for (var i = 0; i < inline_js.length; i++) {\n        inline_js[i].call(root, root.Bokeh);\n      }if (force === true) {\n        display_loaded();\n      }} else if (Date.now() < root._bokeh_timeout) {\n      setTimeout(run_inline_js, 100);\n    } else if (!root._bokeh_failed_load) {\n      console.log(\"Bokeh: BokehJS failed to load within specified timeout.\");\n      root._bokeh_failed_load = true;\n    } else if (force !== true) {\n      var cell = $(document.getElementById(\"1001\")).parents('.cell').data().cell;\n      cell.output_area.append_execute_result(NB_LOAD_WARNING)\n    }\n\n  }\n\n  if (root._bokeh_is_loading === 0) {\n    console.debug(\"Bokeh: BokehJS loaded, going straight to plotting\");\n    run_inline_js();\n  } else {\n    load_libs(css_urls, js_urls, function() {\n      console.debug(\"Bokeh: BokehJS plotting callback run at\", now());\n      run_inline_js();\n    });\n  }\n}(window));"
     },
     "metadata": {},
     "output_type": "display_data"
    }
   ],
   "source": [
    "import bokeh\n",
    "from ipywidgets import interact, interact_manual\n",
    "from bokeh.models.widgets import Panel, Tabs\n",
    "from bokeh.transform import cumsum\n",
    "from bokeh.plotting import figure, show\n",
    "from bokeh.palettes import Category20c\n",
    "from bokeh.layouts import gridplot\n",
    "from bokeh.io import output_notebook\n",
    "from math import pi\n",
    "output_notebook()\n",
    "%matplotlib inline"
   ]
  },
  {
   "cell_type": "code",
   "execution_count": 13,
   "metadata": {},
   "outputs": [],
   "source": [
    "def cpd_analyzer(df, key = 'cr_id', field = ['REC_finding', 'FIN_finding'], group = None, prop = True):\n",
    "    \"\"\"\n",
    "    Calculate the proportions for interesting category\n",
    "    In the processing, remove duplicated observations depending on\n",
    "    finding categories and other subsetting variables\n",
    "    \n",
    "    Input\n",
    "    --------\n",
    "    df: dataframe\n",
    "        Merged CPD dataset\n",
    "    \n",
    "    key: str (default: 'cr_id')\n",
    "        Variable you want to count in specific field\n",
    "    \n",
    "    field: List of strings (default: ['REC_finding', 'FIN_finding'])\n",
    "        List of category which you want to count the number of key observation\n",
    "        and calculate those proportions.\n",
    "        Note: Those should be the same as the part of columns names in df\n",
    "        \n",
    "    group: List of strings(default: None)\n",
    "        List of strings you want to make groupings \n",
    "        \n",
    "    \n",
    "    prop: Bool (default: True)\n",
    "        True is to calculate the proportion (percentage value)\n",
    "    \n",
    "    Output\n",
    "    -------\n",
    "    dataframe\n",
    "    \n",
    "    \"\"\"\n",
    "    output = pd.DataFrame(index = [])\n",
    "    if group == None:\n",
    "        for f in field:      \n",
    "            df_subset = df[[key, f]]\n",
    "            df_subset = df_subset[~df_subset.duplicated(keep = 'first')]\n",
    "\n",
    "            result = df_subset.groupby(f).count()\n",
    "            if prop:\n",
    "                result = result.apply(lambda x:x/x.sum()*100, axis = 0)\n",
    "                result = result.rename(columns = {key:'{}(%)'.format(f)})\n",
    "                output = pd.concat([output, result], axis=1, sort=False)\n",
    "            else:\n",
    "                result = result.rename(columns = {key:'{}(N)'.format(f)})\n",
    "                output = pd.concat([output, result], axis=1, sort=False)\n",
    "    else:\n",
    "        if field == None:\n",
    "            subset = [key] + group\n",
    "            df_subset = df[subset]\n",
    "            df_subset = df_subset[~df_subset.duplicated(keep = 'first')]\n",
    "            \n",
    "            result = df_subset.groupby(group).count()\n",
    "            output = pd.concat([output, result], axis=1, sort=False)\n",
    "        else:    \n",
    "             for f in field:\n",
    "                subset = [key, f] + group\n",
    "                df_subset = df[subset]\n",
    "                df_subset = df_subset[~df_subset.duplicated(keep = 'first')]\n",
    "\n",
    "                group_by = [f] + group\n",
    "                result = df_subset.groupby(group_by).count()\n",
    "                if prop:\n",
    "                    result = result.groupby(group).apply(lambda x:x/x.sum()*100)\n",
    "                    result = result.rename(columns = {key:'{}(%)'.format(f)})\n",
    "                    output = pd.concat([output, result], axis=1, sort=False)\n",
    "                else:\n",
    "                    result = result.rename(columns = {key:'{}(N)'.format(f)})\n",
    "                    output = pd.concat([output, result], axis=1, sort=False)\n",
    "    return output"
   ]
  },
  {
   "cell_type": "code",
   "execution_count": 14,
   "metadata": {},
   "outputs": [],
   "source": [
    "# useful function to reconfigure the data\n",
    "def df_reconfig(df, level = 0):\n",
    "    \"\"\"\n",
    "    Description\n",
    "\n",
    "    input\n",
    "    -----\n",
    "    multilevel indexed dataframe\n",
    "    output\n",
    "    -----\n",
    "    reconfigured dataframe\n",
    "    \"\"\"\n",
    "    data = df.unstack(level = level)\n",
    "    data.columns = data.columns.droplevel()\n",
    "    data = data.reset_index()\n",
    "    return data"
   ]
  },
  {
   "cell_type": "markdown",
   "metadata": {},
   "source": [
    "### Line plot: Change of Number of Complaints by Outcomes\n",
    "\n",
    "* Dropdown Menu\n",
    "* Interactive Legends (Click)"
   ]
  },
  {
   "cell_type": "code",
   "execution_count": 15,
   "metadata": {},
   "outputs": [],
   "source": [
    "df_ts = cpd_analyzer(df_all, group = ['complaint_year'], prop = False)"
   ]
  },
  {
   "cell_type": "code",
   "execution_count": 16,
   "metadata": {},
   "outputs": [],
   "source": [
    "def cpd_lineplot(df, outcome):\n",
    "    data = df.loc[outcome]\n",
    "    \n",
    "    plot = figure(title = outcome, x_axis_label = 'Year', y_axis_label = 'Number of Incidents', plot_height = 300)\n",
    "    plot.line(data.index, data['REC_finding(N)'], legend = 'Recommend', line_width = 4)\n",
    "    plot.line(data.index, data['FIN_finding(N)'], legend = 'Final', color = 'orange', line_width = 4)\n",
    "    plot.legend.click_policy=\"hide\"\n",
    "    \n",
    "    return plot"
   ]
  },
  {
   "cell_type": "code",
   "execution_count": 17,
   "metadata": {},
   "outputs": [
    {
     "data": {
      "application/vnd.jupyter.widget-view+json": {
       "model_id": "33f282dfd814490497feb1ff05936474",
       "version_major": 2,
       "version_minor": 0
      },
      "text/plain": [
       "interactive(children=(Dropdown(description='Outcome', options=('SU', 'NAF', 'NS', 'EX', 'UN'), value='SU'), Ou…"
      ]
     },
     "metadata": {},
     "output_type": "display_data"
    }
   ],
   "source": [
    "findings = ['SU', 'NAF', 'NS', 'EX', 'UN']\n",
    "@interact(Outcome = findings)\n",
    "def dropdown_click(Outcome = findings[0]):\n",
    "    plot = cpd_lineplot(df_ts, Outcome)\n",
    "    show(plot)"
   ]
  },
  {
   "cell_type": "markdown",
   "metadata": {},
   "source": [
    "### Bar plot: Change of Number and Proportion of Accused Officers\n",
    "\n",
    "* Tabs"
   ]
  },
  {
   "cell_type": "code",
   "execution_count": 18,
   "metadata": {},
   "outputs": [],
   "source": [
    "def color_gen(n):\n",
    "    palette = bokeh.palettes.Category20c[n]\n",
    "    for color in palette:\n",
    "        yield color"
   ]
  },
  {
   "cell_type": "code",
   "execution_count": 19,
   "metadata": {},
   "outputs": [],
   "source": [
    "df_offc_race_num = cpd_analyzer(df_all, group = ['complaint_year'], field = ['race'], prop = False)\n",
    "df_offc_race_prop = cpd_analyzer(df_all, group = ['complaint_year'], field = ['race'], prop = True)"
   ]
  },
  {
   "cell_type": "code",
   "execution_count": 20,
   "metadata": {},
   "outputs": [],
   "source": [
    "df_offc_race_num = df_reconfig(df_offc_race_num) \\\n",
    "    .assign(OTHERS = lambda df:df['ASIAN/PACIFIC ISLANDER'] + df['NATIVE AMERICAN/ALASKAN NATIVE'])\\\n",
    "    .drop(columns = ['ASIAN/PACIFIC ISLANDER', 'NATIVE AMERICAN/ALASKAN NATIVE'])\n",
    "df_offc_race_prop = df_reconfig(df_offc_race_prop) \\\n",
    "    .assign(OTHERS = lambda df:df['ASIAN/PACIFIC ISLANDER'] + df['NATIVE AMERICAN/ALASKAN NATIVE'])\\\n",
    "    .drop(columns = ['ASIAN/PACIFIC ISLANDER', 'NATIVE AMERICAN/ALASKAN NATIVE'])"
   ]
  },
  {
   "cell_type": "code",
   "execution_count": 21,
   "metadata": {
    "scrolled": true
   },
   "outputs": [],
   "source": [
    "def cpd_stackbar_tab(df_num, df_prop, groups):\n",
    "    colors = [i for i in color_gen(len(groups))]\n",
    "    names = [i.lower() for i in groups]\n",
    "    \n",
    "    tbs = []\n",
    "    for i, (l, data) in enumerate(zip(['Number', 'Proportion'],[df_num, df_prop])):       \n",
    "        plot = figure(title='Accused Officers by Race',\n",
    "                      x_axis_label='Year', y_axis_label='The number of Accused Officers',\n",
    "                      x_range=data['complaint_year'], plot_height = 300)\n",
    "        plot.vbar_stack(groups, x = 'complaint_year', width=0.9, color = colors, source = data, legend = names)\n",
    "        plot.y_range.start = 0\n",
    "        plot.x_range.range_padding = 0.1\n",
    "        plot.xgrid.grid_line_color = None\n",
    "        plot.axis.minor_tick_line_color = None\n",
    "        plot.outline_line_color = None\n",
    "        plot.legend.location = \"top_right\"\n",
    "        plot.legend.orientation = \"horizontal\"\n",
    "        \n",
    "        tbs.append(Panel(child = plot, title = '{}'.format(l)))\n",
    "    \n",
    "    tabs = Tabs(tabs = tbs)\n",
    "    \n",
    "    return tabs"
   ]
  },
  {
   "cell_type": "code",
   "execution_count": 22,
   "metadata": {},
   "outputs": [
    {
     "data": {
      "text/html": [
       "\n",
       "\n",
       "\n",
       "\n",
       "\n",
       "\n",
       "  <div class=\"bk-root\" id=\"68e3bb38-5efd-4d5f-a4c9-6a133e5bceff\" data-root-id=\"1347\"></div>\n"
      ]
     },
     "metadata": {},
     "output_type": "display_data"
    },
    {
     "data": {
      "application/javascript": [
       "(function(root) {\n",
       "  function embed_document(root) {\n",
       "    \n",
       "  var docs_json = {\"7be52d5b-a419-4d33-87d8-419a42156ce1\":{\"roots\":{\"references\":[{\"attributes\":{\"callback\":null,\"tabs\":[{\"id\":\"1239\",\"type\":\"Panel\"},{\"id\":\"1346\",\"type\":\"Panel\"}]},\"id\":\"1347\",\"type\":\"Tabs\"},{\"attributes\":{\"fields\":[\"WHITE\"]},\"id\":\"1275\",\"type\":\"Stack\"},{\"attributes\":{},\"id\":\"1142\",\"type\":\"LinearScale\"},{\"attributes\":{},\"id\":\"1149\",\"type\":\"BasicTicker\"},{\"attributes\":{\"label\":{\"value\":\"white\"},\"renderers\":[{\"id\":\"1285\",\"type\":\"GlyphRenderer\"}]},\"id\":\"1294\",\"type\":\"LegendItem\"},{\"attributes\":{\"axis_label\":\"Year\",\"formatter\":{\"id\":\"1182\",\"type\":\"CategoricalTickFormatter\"},\"minor_tick_line_color\":{\"value\":null},\"ticker\":{\"id\":\"1145\",\"type\":\"CategoricalTicker\"}},\"id\":\"1144\",\"type\":\"CategoricalAxis\"},{\"attributes\":{\"grid_line_color\":null,\"ticker\":{\"id\":\"1252\",\"type\":\"CategoricalTicker\"}},\"id\":\"1254\",\"type\":\"Grid\"},{\"attributes\":{\"items\":[{\"id\":\"1294\",\"type\":\"LegendItem\"},{\"id\":\"1309\",\"type\":\"LegendItem\"},{\"id\":\"1326\",\"type\":\"LegendItem\"},{\"id\":\"1345\",\"type\":\"LegendItem\"}],\"orientation\":\"horizontal\"},\"id\":\"1293\",\"type\":\"Legend\"},{\"attributes\":{\"axis_label\":\"The number of Accused Officers\",\"formatter\":{\"id\":\"1291\",\"type\":\"BasicTickFormatter\"},\"minor_tick_line_color\":{\"value\":null},\"ticker\":{\"id\":\"1256\",\"type\":\"BasicTicker\"}},\"id\":\"1255\",\"type\":\"LinearAxis\"},{\"attributes\":{},\"id\":\"1237\",\"type\":\"Selection\"},{\"attributes\":{\"bottom\":{\"expr\":{\"id\":\"1166\",\"type\":\"Stack\"}},\"fill_alpha\":{\"value\":0.1},\"fill_color\":{\"value\":\"#1f77b4\"},\"line_alpha\":{\"value\":0.1},\"line_color\":{\"value\":\"#1f77b4\"},\"top\":{\"expr\":{\"id\":\"1167\",\"type\":\"Stack\"}},\"width\":{\"value\":0.9},\"x\":{\"field\":\"complaint_year\"}},\"id\":\"1177\",\"type\":\"VBar\"},{\"attributes\":{\"callback\":null,\"data\":{\"BLACK\":[2110,1938,2019,1734,1385,597,234,705,593,522,404,546,390,451,314,265,89],\"HISPANIC\":[1166,1327,1380,1211,1057,408,181,533,408,457,397,444,387,329,285,232,89],\"OTHERS\":[163,174,177,191,129,55,28,80,63,81,62,78,74,73,53,48,9],\"WHITE\":[3434,3676,3795,3149,2538,1075,436,1131,915,914,821,836,769,662,533,421,177],\"complaint_year\":[\"2000\",\"2001\",\"2002\",\"2003\",\"2004\",\"2005\",\"2006\",\"2007\",\"2008\",\"2009\",\"2010\",\"2011\",\"2012\",\"2013\",\"2014\",\"2015\",\"2016\"],\"index\":[0,1,2,3,4,5,6,7,8,9,10,11,12,13,14,15,16]},\"selected\":{\"id\":\"1201\",\"type\":\"Selection\"},\"selection_policy\":{\"id\":\"1200\",\"type\":\"UnionRenderers\"}},\"id\":\"1174\",\"type\":\"ColumnDataSource\"},{\"attributes\":{\"text\":\"Accused Officers by Race\"},\"id\":\"1134\",\"type\":\"Title\"},{\"attributes\":{},\"id\":\"1256\",\"type\":\"BasicTicker\"},{\"attributes\":{\"fields\":[\"WHITE\",\"BLACK\",\"HISPANIC\"]},\"id\":\"1171\",\"type\":\"Stack\"},{\"attributes\":{\"dimension\":1,\"ticker\":{\"id\":\"1149\",\"type\":\"BasicTicker\"}},\"id\":\"1152\",\"type\":\"Grid\"},{\"attributes\":{\"dimension\":1,\"ticker\":{\"id\":\"1256\",\"type\":\"BasicTicker\"}},\"id\":\"1259\",\"type\":\"Grid\"},{\"attributes\":{\"source\":{\"id\":\"1295\",\"type\":\"ColumnDataSource\"}},\"id\":\"1300\",\"type\":\"CDSView\"},{\"attributes\":{},\"id\":\"1200\",\"type\":\"UnionRenderers\"},{\"attributes\":{\"label\":{\"value\":\"black\"},\"renderers\":[{\"id\":\"1192\",\"type\":\"GlyphRenderer\"}]},\"id\":\"1202\",\"type\":\"LegendItem\"},{\"attributes\":{\"bottom\":{\"expr\":{\"id\":\"1277\",\"type\":\"Stack\"}},\"fill_color\":{\"value\":\"#9ecae1\"},\"line_color\":{\"value\":\"#9ecae1\"},\"top\":{\"expr\":{\"id\":\"1278\",\"type\":\"Stack\"}},\"width\":{\"value\":0.9},\"x\":{\"field\":\"complaint_year\"}},\"id\":\"1312\",\"type\":\"VBar\"},{\"attributes\":{\"fields\":[\"WHITE\"]},\"id\":\"1274\",\"type\":\"Stack\"},{\"attributes\":{},\"id\":\"1308\",\"type\":\"Selection\"},{\"attributes\":{\"axis_label\":\"The number of Accused Officers\",\"formatter\":{\"id\":\"1184\",\"type\":\"BasicTickFormatter\"},\"minor_tick_line_color\":{\"value\":null},\"ticker\":{\"id\":\"1149\",\"type\":\"BasicTicker\"}},\"id\":\"1148\",\"type\":\"LinearAxis\"},{\"attributes\":{\"fields\":[]},\"id\":\"1273\",\"type\":\"Stack\"},{\"attributes\":{\"active_drag\":\"auto\",\"active_inspect\":\"auto\",\"active_multi\":null,\"active_scroll\":\"auto\",\"active_tap\":\"auto\",\"tools\":[{\"id\":\"1260\",\"type\":\"PanTool\"},{\"id\":\"1261\",\"type\":\"WheelZoomTool\"},{\"id\":\"1262\",\"type\":\"BoxZoomTool\"},{\"id\":\"1263\",\"type\":\"SaveTool\"},{\"id\":\"1264\",\"type\":\"ResetTool\"},{\"id\":\"1265\",\"type\":\"HelpTool\"}]},\"id\":\"1266\",\"type\":\"Toolbar\"},{\"attributes\":{},\"id\":\"1249\",\"type\":\"LinearScale\"},{\"attributes\":{\"bottom\":{\"expr\":{\"id\":\"1279\",\"type\":\"Stack\"}},\"fill_color\":{\"value\":\"#c6dbef\"},\"line_color\":{\"value\":\"#c6dbef\"},\"top\":{\"expr\":{\"id\":\"1280\",\"type\":\"Stack\"}},\"width\":{\"value\":0.9},\"x\":{\"field\":\"complaint_year\"}},\"id\":\"1329\",\"type\":\"VBar\"},{\"attributes\":{\"data_source\":{\"id\":\"1220\",\"type\":\"ColumnDataSource\"},\"glyph\":{\"id\":\"1222\",\"type\":\"VBar\"},\"hover_glyph\":null,\"muted_glyph\":null,\"name\":\"OTHERS\",\"nonselection_glyph\":{\"id\":\"1223\",\"type\":\"VBar\"},\"selection_glyph\":null,\"view\":{\"id\":\"1225\",\"type\":\"CDSView\"}},\"id\":\"1224\",\"type\":\"GlyphRenderer\"},{\"attributes\":{},\"id\":\"1260\",\"type\":\"PanTool\"},{\"attributes\":{\"data_source\":{\"id\":\"1174\",\"type\":\"ColumnDataSource\"},\"glyph\":{\"id\":\"1176\",\"type\":\"VBar\"},\"hover_glyph\":null,\"muted_glyph\":null,\"name\":\"WHITE\",\"nonselection_glyph\":{\"id\":\"1177\",\"type\":\"VBar\"},\"selection_glyph\":null,\"view\":{\"id\":\"1179\",\"type\":\"CDSView\"}},\"id\":\"1178\",\"type\":\"GlyphRenderer\"},{\"attributes\":{\"data_source\":{\"id\":\"1295\",\"type\":\"ColumnDataSource\"},\"glyph\":{\"id\":\"1297\",\"type\":\"VBar\"},\"hover_glyph\":null,\"muted_glyph\":null,\"name\":\"BLACK\",\"nonselection_glyph\":{\"id\":\"1298\",\"type\":\"VBar\"},\"selection_glyph\":null,\"view\":{\"id\":\"1300\",\"type\":\"CDSView\"}},\"id\":\"1299\",\"type\":\"GlyphRenderer\"},{\"attributes\":{\"callback\":null,\"data\":{\"BLACK\":{\"__ndarray__\":\"mHYQtiizPkDEYvWU/Dw7QEJ2uewgZDtAkrvPZOmWO0CmoFLz6Bs7QPFKiVFo9jtARp1cXgSfOkBxbdngick8QKMWY+bx9j1AjOxQ2JpxOkDXxoVUkf03QC0tLS0trTxAL6G9hPYSOEAE9YKr28Q9QKqPB711fzpADWJNOsZuO0A1V3M1V3M4QA==\",\"dtype\":\"float64\",\"shape\":[17]},\"HISPANIC\":{\"__ndarray__\":\"STku/wX3MEDZFu/BlqYyQI0rDjjWuDJALm7rHKJEM0DGlScCYbA0QNyzfJAtHDNAKa7233GXNECgpmaKlMM1QHV1HCzRnTRADtGueqUmN0AhgmKGJ5M3QHa/UXa/UTdAOY7jOI7jN0BzCOoFV7c1QBqISkf2DDhAyax+ez0EOEA1V3M1V3M4QA==\",\"dtype\":\"float64\",\"shape\":[17]},\"OTHERS\":{\"__ndarray__\":\"KsHu5gj5AkC2NPUDdpADQF4ziwjeNQNApOCJo9VPCEBQvkIcHDMEQDT+CNPgmwRAWE696sZ7CUCXfnXcEyIKQNxUUAmodwlAK4GK3tJpEEBZKQx8JHQNQD/1Yj71YhBAA0+35odFEkAxSwkbIEYTQHIuiWXq4xFAGfDJ4TLgE0B8vMd7vMcDQA==\",\"dtype\":\"float64\",\"shape\":[17]},\"WHITE\":{\"__ndarray__\":\"/LvxFlj7SEDmb070LtVJQOJ7E40mvklAFs3p5DwNSUDluH5DqdZIQLZwzAH3LElAY4UqcgjNSEAOnpiMTxdHQKY0K/YjHkdADtGueqUmR0DvGMtKYWBIQAYrdAYr9EVAbH5YpAy8R0DeV+ijItlFQFDOJbFMfUZAkbrgyHfKRUADLdACLVBIQA==\",\"dtype\":\"float64\",\"shape\":[17]},\"complaint_year\":[\"2000\",\"2001\",\"2002\",\"2003\",\"2004\",\"2005\",\"2006\",\"2007\",\"2008\",\"2009\",\"2010\",\"2011\",\"2012\",\"2013\",\"2014\",\"2015\",\"2016\"],\"index\":[0,1,2,3,4,5,6,7,8,9,10,11,12,13,14,15,16]},\"selected\":{\"id\":\"1385\",\"type\":\"Selection\"},\"selection_policy\":{\"id\":\"1384\",\"type\":\"UnionRenderers\"}},\"id\":\"1327\",\"type\":\"ColumnDataSource\"},{\"attributes\":{\"grid_line_color\":null,\"ticker\":{\"id\":\"1145\",\"type\":\"CategoricalTicker\"}},\"id\":\"1147\",\"type\":\"Grid\"},{\"attributes\":{\"callback\":null,\"data\":{\"BLACK\":[2110,1938,2019,1734,1385,597,234,705,593,522,404,546,390,451,314,265,89],\"HISPANIC\":[1166,1327,1380,1211,1057,408,181,533,408,457,397,444,387,329,285,232,89],\"OTHERS\":[163,174,177,191,129,55,28,80,63,81,62,78,74,73,53,48,9],\"WHITE\":[3434,3676,3795,3149,2538,1075,436,1131,915,914,821,836,769,662,533,421,177],\"complaint_year\":[\"2000\",\"2001\",\"2002\",\"2003\",\"2004\",\"2005\",\"2006\",\"2007\",\"2008\",\"2009\",\"2010\",\"2011\",\"2012\",\"2013\",\"2014\",\"2015\",\"2016\"],\"index\":[0,1,2,3,4,5,6,7,8,9,10,11,12,13,14,15,16]},\"selected\":{\"id\":\"1376\",\"type\":\"Selection\"},\"selection_policy\":{\"id\":\"1375\",\"type\":\"UnionRenderers\"}},\"id\":\"1220\",\"type\":\"ColumnDataSource\"},{\"attributes\":{\"label\":{\"value\":\"black\"},\"renderers\":[{\"id\":\"1299\",\"type\":\"GlyphRenderer\"}]},\"id\":\"1309\",\"type\":\"LegendItem\"},{\"attributes\":{\"bottom\":{\"expr\":{\"id\":\"1170\",\"type\":\"Stack\"}},\"fill_alpha\":{\"value\":0.1},\"fill_color\":{\"value\":\"#1f77b4\"},\"line_alpha\":{\"value\":0.1},\"line_color\":{\"value\":\"#1f77b4\"},\"top\":{\"expr\":{\"id\":\"1171\",\"type\":\"Stack\"}},\"width\":{\"value\":0.9},\"x\":{\"field\":\"complaint_year\"}},\"id\":\"1206\",\"type\":\"VBar\"},{\"attributes\":{\"fields\":[\"WHITE\"]},\"id\":\"1168\",\"type\":\"Stack\"},{\"attributes\":{},\"id\":\"1261\",\"type\":\"WheelZoomTool\"},{\"attributes\":{\"fields\":[\"WHITE\"]},\"id\":\"1167\",\"type\":\"Stack\"},{\"attributes\":{},\"id\":\"1307\",\"type\":\"UnionRenderers\"},{\"attributes\":{\"text\":\"Accused Officers by Race\"},\"id\":\"1241\",\"type\":\"Title\"},{\"attributes\":{},\"id\":\"1145\",\"type\":\"CategoricalTicker\"},{\"attributes\":{\"overlay\":{\"id\":\"1292\",\"type\":\"BoxAnnotation\"}},\"id\":\"1262\",\"type\":\"BoxZoomTool\"},{\"attributes\":{\"bottom\":{\"expr\":{\"id\":\"1275\",\"type\":\"Stack\"}},\"fill_alpha\":{\"value\":0.1},\"fill_color\":{\"value\":\"#1f77b4\"},\"line_alpha\":{\"value\":0.1},\"line_color\":{\"value\":\"#1f77b4\"},\"top\":{\"expr\":{\"id\":\"1276\",\"type\":\"Stack\"}},\"width\":{\"value\":0.9},\"x\":{\"field\":\"complaint_year\"}},\"id\":\"1298\",\"type\":\"VBar\"},{\"attributes\":{\"fields\":[\"WHITE\",\"BLACK\"]},\"id\":\"1277\",\"type\":\"Stack\"},{\"attributes\":{},\"id\":\"1263\",\"type\":\"SaveTool\"},{\"attributes\":{},\"id\":\"1264\",\"type\":\"ResetTool\"},{\"attributes\":{\"label\":{\"value\":\"others\"},\"renderers\":[{\"id\":\"1224\",\"type\":\"GlyphRenderer\"}]},\"id\":\"1238\",\"type\":\"LegendItem\"},{\"attributes\":{\"overlay\":{\"id\":\"1185\",\"type\":\"BoxAnnotation\"}},\"id\":\"1155\",\"type\":\"BoxZoomTool\"},{\"attributes\":{\"bottom_units\":\"screen\",\"fill_alpha\":{\"value\":0.5},\"fill_color\":{\"value\":\"lightgrey\"},\"left_units\":\"screen\",\"level\":\"overlay\",\"line_alpha\":{\"value\":1.0},\"line_color\":{\"value\":\"black\"},\"line_dash\":[4,4],\"line_width\":{\"value\":2},\"render_mode\":\"css\",\"right_units\":\"screen\",\"top_units\":\"screen\"},\"id\":\"1185\",\"type\":\"BoxAnnotation\"},{\"attributes\":{\"bottom\":{\"expr\":{\"id\":\"1275\",\"type\":\"Stack\"}},\"fill_color\":{\"value\":\"#6baed6\"},\"line_color\":{\"value\":\"#6baed6\"},\"top\":{\"expr\":{\"id\":\"1276\",\"type\":\"Stack\"}},\"width\":{\"value\":0.9},\"x\":{\"field\":\"complaint_year\"}},\"id\":\"1297\",\"type\":\"VBar\"},{\"attributes\":{},\"id\":\"1289\",\"type\":\"CategoricalTickFormatter\"},{\"attributes\":{\"callback\":null,\"data\":{\"BLACK\":{\"__ndarray__\":\"mHYQtiizPkDEYvWU/Dw7QEJ2uewgZDtAkrvPZOmWO0CmoFLz6Bs7QPFKiVFo9jtARp1cXgSfOkBxbdngick8QKMWY+bx9j1AjOxQ2JpxOkDXxoVUkf03QC0tLS0trTxAL6G9hPYSOEAE9YKr28Q9QKqPB711fzpADWJNOsZuO0A1V3M1V3M4QA==\",\"dtype\":\"float64\",\"shape\":[17]},\"HISPANIC\":{\"__ndarray__\":\"STku/wX3MEDZFu/BlqYyQI0rDjjWuDJALm7rHKJEM0DGlScCYbA0QNyzfJAtHDNAKa7233GXNECgpmaKlMM1QHV1HCzRnTRADtGueqUmN0AhgmKGJ5M3QHa/UXa/UTdAOY7jOI7jN0BzCOoFV7c1QBqISkf2DDhAyax+ez0EOEA1V3M1V3M4QA==\",\"dtype\":\"float64\",\"shape\":[17]},\"OTHERS\":{\"__ndarray__\":\"KsHu5gj5AkC2NPUDdpADQF4ziwjeNQNApOCJo9VPCEBQvkIcHDMEQDT+CNPgmwRAWE696sZ7CUCXfnXcEyIKQNxUUAmodwlAK4GK3tJpEEBZKQx8JHQNQD/1Yj71YhBAA0+35odFEkAxSwkbIEYTQHIuiWXq4xFAGfDJ4TLgE0B8vMd7vMcDQA==\",\"dtype\":\"float64\",\"shape\":[17]},\"WHITE\":{\"__ndarray__\":\"/LvxFlj7SEDmb070LtVJQOJ7E40mvklAFs3p5DwNSUDluH5DqdZIQLZwzAH3LElAY4UqcgjNSEAOnpiMTxdHQKY0K/YjHkdADtGueqUmR0DvGMtKYWBIQAYrdAYr9EVAbH5YpAy8R0DeV+ijItlFQFDOJbFMfUZAkbrgyHfKRUADLdACLVBIQA==\",\"dtype\":\"float64\",\"shape\":[17]},\"complaint_year\":[\"2000\",\"2001\",\"2002\",\"2003\",\"2004\",\"2005\",\"2006\",\"2007\",\"2008\",\"2009\",\"2010\",\"2011\",\"2012\",\"2013\",\"2014\",\"2015\",\"2016\"],\"index\":[0,1,2,3,4,5,6,7,8,9,10,11,12,13,14,15,16]},\"selected\":{\"id\":\"1325\",\"type\":\"Selection\"},\"selection_policy\":{\"id\":\"1324\",\"type\":\"UnionRenderers\"}},\"id\":\"1295\",\"type\":\"ColumnDataSource\"},{\"attributes\":{},\"id\":\"1265\",\"type\":\"HelpTool\"},{\"attributes\":{\"source\":{\"id\":\"1174\",\"type\":\"ColumnDataSource\"}},\"id\":\"1179\",\"type\":\"CDSView\"},{\"attributes\":{},\"id\":\"1325\",\"type\":\"Selection\"},{\"attributes\":{\"bottom\":{\"expr\":{\"id\":\"1170\",\"type\":\"Stack\"}},\"fill_color\":{\"value\":\"#9ecae1\"},\"line_color\":{\"value\":\"#9ecae1\"},\"top\":{\"expr\":{\"id\":\"1171\",\"type\":\"Stack\"}},\"width\":{\"value\":0.9},\"x\":{\"field\":\"complaint_year\"}},\"id\":\"1205\",\"type\":\"VBar\"},{\"attributes\":{\"callback\":null,\"data\":{\"BLACK\":{\"__ndarray__\":\"mHYQtiizPkDEYvWU/Dw7QEJ2uewgZDtAkrvPZOmWO0CmoFLz6Bs7QPFKiVFo9jtARp1cXgSfOkBxbdngick8QKMWY+bx9j1AjOxQ2JpxOkDXxoVUkf03QC0tLS0trTxAL6G9hPYSOEAE9YKr28Q9QKqPB711fzpADWJNOsZuO0A1V3M1V3M4QA==\",\"dtype\":\"float64\",\"shape\":[17]},\"HISPANIC\":{\"__ndarray__\":\"STku/wX3MEDZFu/BlqYyQI0rDjjWuDJALm7rHKJEM0DGlScCYbA0QNyzfJAtHDNAKa7233GXNECgpmaKlMM1QHV1HCzRnTRADtGueqUmN0AhgmKGJ5M3QHa/UXa/UTdAOY7jOI7jN0BzCOoFV7c1QBqISkf2DDhAyax+ez0EOEA1V3M1V3M4QA==\",\"dtype\":\"float64\",\"shape\":[17]},\"OTHERS\":{\"__ndarray__\":\"KsHu5gj5AkC2NPUDdpADQF4ziwjeNQNApOCJo9VPCEBQvkIcHDMEQDT+CNPgmwRAWE696sZ7CUCXfnXcEyIKQNxUUAmodwlAK4GK3tJpEEBZKQx8JHQNQD/1Yj71YhBAA0+35odFEkAxSwkbIEYTQHIuiWXq4xFAGfDJ4TLgE0B8vMd7vMcDQA==\",\"dtype\":\"float64\",\"shape\":[17]},\"WHITE\":{\"__ndarray__\":\"/LvxFlj7SEDmb070LtVJQOJ7E40mvklAFs3p5DwNSUDluH5DqdZIQLZwzAH3LElAY4UqcgjNSEAOnpiMTxdHQKY0K/YjHkdADtGueqUmR0DvGMtKYWBIQAYrdAYr9EVAbH5YpAy8R0DeV+ijItlFQFDOJbFMfUZAkbrgyHfKRUADLdACLVBIQA==\",\"dtype\":\"float64\",\"shape\":[17]},\"complaint_year\":[\"2000\",\"2001\",\"2002\",\"2003\",\"2004\",\"2005\",\"2006\",\"2007\",\"2008\",\"2009\",\"2010\",\"2011\",\"2012\",\"2013\",\"2014\",\"2015\",\"2016\"],\"index\":[0,1,2,3,4,5,6,7,8,9,10,11,12,13,14,15,16]},\"selected\":{\"id\":\"1308\",\"type\":\"Selection\"},\"selection_policy\":{\"id\":\"1307\",\"type\":\"UnionRenderers\"}},\"id\":\"1281\",\"type\":\"ColumnDataSource\"},{\"attributes\":{},\"id\":\"1236\",\"type\":\"UnionRenderers\"},{\"attributes\":{},\"id\":\"1376\",\"type\":\"Selection\"},{\"attributes\":{\"source\":{\"id\":\"1327\",\"type\":\"ColumnDataSource\"}},\"id\":\"1332\",\"type\":\"CDSView\"},{\"attributes\":{\"fields\":[]},\"id\":\"1166\",\"type\":\"Stack\"},{\"attributes\":{\"fields\":[\"WHITE\",\"BLACK\",\"HISPANIC\",\"OTHERS\"]},\"id\":\"1173\",\"type\":\"Stack\"},{\"attributes\":{\"callback\":null,\"factors\":[\"2000\",\"2001\",\"2002\",\"2003\",\"2004\",\"2005\",\"2006\",\"2007\",\"2008\",\"2009\",\"2010\",\"2011\",\"2012\",\"2013\",\"2014\",\"2015\",\"2016\"],\"range_padding\":0.1},\"id\":\"1243\",\"type\":\"FactorRange\"},{\"attributes\":{\"source\":{\"id\":\"1220\",\"type\":\"ColumnDataSource\"}},\"id\":\"1225\",\"type\":\"CDSView\"},{\"attributes\":{\"bottom\":{\"expr\":{\"id\":\"1273\",\"type\":\"Stack\"}},\"fill_alpha\":{\"value\":0.1},\"fill_color\":{\"value\":\"#1f77b4\"},\"line_alpha\":{\"value\":0.1},\"line_color\":{\"value\":\"#1f77b4\"},\"top\":{\"expr\":{\"id\":\"1274\",\"type\":\"Stack\"}},\"width\":{\"value\":0.9},\"x\":{\"field\":\"complaint_year\"}},\"id\":\"1284\",\"type\":\"VBar\"},{\"attributes\":{},\"id\":\"1153\",\"type\":\"PanTool\"},{\"attributes\":{},\"id\":\"1324\",\"type\":\"UnionRenderers\"},{\"attributes\":{\"label\":{\"value\":\"hispanic\"},\"renderers\":[{\"id\":\"1207\",\"type\":\"GlyphRenderer\"}]},\"id\":\"1219\",\"type\":\"LegendItem\"},{\"attributes\":{\"fields\":[\"WHITE\",\"BLACK\"]},\"id\":\"1276\",\"type\":\"Stack\"},{\"attributes\":{\"label\":{\"value\":\"others\"},\"renderers\":[{\"id\":\"1331\",\"type\":\"GlyphRenderer\"}]},\"id\":\"1345\",\"type\":\"LegendItem\"},{\"attributes\":{\"fields\":[\"WHITE\",\"BLACK\",\"HISPANIC\"]},\"id\":\"1278\",\"type\":\"Stack\"},{\"attributes\":{\"fields\":[\"WHITE\",\"BLACK\",\"HISPANIC\"]},\"id\":\"1279\",\"type\":\"Stack\"},{\"attributes\":{\"data_source\":{\"id\":\"1310\",\"type\":\"ColumnDataSource\"},\"glyph\":{\"id\":\"1312\",\"type\":\"VBar\"},\"hover_glyph\":null,\"muted_glyph\":null,\"name\":\"HISPANIC\",\"nonselection_glyph\":{\"id\":\"1313\",\"type\":\"VBar\"},\"selection_glyph\":null,\"view\":{\"id\":\"1315\",\"type\":\"CDSView\"}},\"id\":\"1314\",\"type\":\"GlyphRenderer\"},{\"attributes\":{\"bottom\":{\"expr\":{\"id\":\"1166\",\"type\":\"Stack\"}},\"fill_color\":{\"value\":\"#3182bd\"},\"line_color\":{\"value\":\"#3182bd\"},\"top\":{\"expr\":{\"id\":\"1167\",\"type\":\"Stack\"}},\"width\":{\"value\":0.9},\"x\":{\"field\":\"complaint_year\"}},\"id\":\"1176\",\"type\":\"VBar\"},{\"attributes\":{\"source\":{\"id\":\"1310\",\"type\":\"ColumnDataSource\"}},\"id\":\"1315\",\"type\":\"CDSView\"},{\"attributes\":{\"fields\":[\"WHITE\",\"BLACK\"]},\"id\":\"1170\",\"type\":\"Stack\"},{\"attributes\":{},\"id\":\"1343\",\"type\":\"UnionRenderers\"},{\"attributes\":{\"fields\":[\"WHITE\",\"BLACK\",\"HISPANIC\",\"OTHERS\"]},\"id\":\"1280\",\"type\":\"Stack\"},{\"attributes\":{\"bottom\":{\"expr\":{\"id\":\"1277\",\"type\":\"Stack\"}},\"fill_alpha\":{\"value\":0.1},\"fill_color\":{\"value\":\"#1f77b4\"},\"line_alpha\":{\"value\":0.1},\"line_color\":{\"value\":\"#1f77b4\"},\"top\":{\"expr\":{\"id\":\"1278\",\"type\":\"Stack\"}},\"width\":{\"value\":0.9},\"x\":{\"field\":\"complaint_year\"}},\"id\":\"1313\",\"type\":\"VBar\"},{\"attributes\":{\"callback\":null,\"data\":{\"BLACK\":{\"__ndarray__\":\"mHYQtiizPkDEYvWU/Dw7QEJ2uewgZDtAkrvPZOmWO0CmoFLz6Bs7QPFKiVFo9jtARp1cXgSfOkBxbdngick8QKMWY+bx9j1AjOxQ2JpxOkDXxoVUkf03QC0tLS0trTxAL6G9hPYSOEAE9YKr28Q9QKqPB711fzpADWJNOsZuO0A1V3M1V3M4QA==\",\"dtype\":\"float64\",\"shape\":[17]},\"HISPANIC\":{\"__ndarray__\":\"STku/wX3MEDZFu/BlqYyQI0rDjjWuDJALm7rHKJEM0DGlScCYbA0QNyzfJAtHDNAKa7233GXNECgpmaKlMM1QHV1HCzRnTRADtGueqUmN0AhgmKGJ5M3QHa/UXa/UTdAOY7jOI7jN0BzCOoFV7c1QBqISkf2DDhAyax+ez0EOEA1V3M1V3M4QA==\",\"dtype\":\"float64\",\"shape\":[17]},\"OTHERS\":{\"__ndarray__\":\"KsHu5gj5AkC2NPUDdpADQF4ziwjeNQNApOCJo9VPCEBQvkIcHDMEQDT+CNPgmwRAWE696sZ7CUCXfnXcEyIKQNxUUAmodwlAK4GK3tJpEEBZKQx8JHQNQD/1Yj71YhBAA0+35odFEkAxSwkbIEYTQHIuiWXq4xFAGfDJ4TLgE0B8vMd7vMcDQA==\",\"dtype\":\"float64\",\"shape\":[17]},\"WHITE\":{\"__ndarray__\":\"/LvxFlj7SEDmb070LtVJQOJ7E40mvklAFs3p5DwNSUDluH5DqdZIQLZwzAH3LElAY4UqcgjNSEAOnpiMTxdHQKY0K/YjHkdADtGueqUmR0DvGMtKYWBIQAYrdAYr9EVAbH5YpAy8R0DeV+ijItlFQFDOJbFMfUZAkbrgyHfKRUADLdACLVBIQA==\",\"dtype\":\"float64\",\"shape\":[17]},\"complaint_year\":[\"2000\",\"2001\",\"2002\",\"2003\",\"2004\",\"2005\",\"2006\",\"2007\",\"2008\",\"2009\",\"2010\",\"2011\",\"2012\",\"2013\",\"2014\",\"2015\",\"2016\"],\"index\":[0,1,2,3,4,5,6,7,8,9,10,11,12,13,14,15,16]},\"selected\":{\"id\":\"1344\",\"type\":\"Selection\"},\"selection_policy\":{\"id\":\"1343\",\"type\":\"UnionRenderers\"}},\"id\":\"1310\",\"type\":\"ColumnDataSource\"},{\"attributes\":{\"bottom\":{\"expr\":{\"id\":\"1172\",\"type\":\"Stack\"}},\"fill_alpha\":{\"value\":0.1},\"fill_color\":{\"value\":\"#1f77b4\"},\"line_alpha\":{\"value\":0.1},\"line_color\":{\"value\":\"#1f77b4\"},\"top\":{\"expr\":{\"id\":\"1173\",\"type\":\"Stack\"}},\"width\":{\"value\":0.9},\"x\":{\"field\":\"complaint_year\"}},\"id\":\"1223\",\"type\":\"VBar\"},{\"attributes\":{\"data_source\":{\"id\":\"1281\",\"type\":\"ColumnDataSource\"},\"glyph\":{\"id\":\"1283\",\"type\":\"VBar\"},\"hover_glyph\":null,\"muted_glyph\":null,\"name\":\"WHITE\",\"nonselection_glyph\":{\"id\":\"1284\",\"type\":\"VBar\"},\"selection_glyph\":null,\"view\":{\"id\":\"1286\",\"type\":\"CDSView\"}},\"id\":\"1285\",\"type\":\"GlyphRenderer\"},{\"attributes\":{},\"id\":\"1291\",\"type\":\"BasicTickFormatter\"},{\"attributes\":{\"fields\":[\"WHITE\",\"BLACK\",\"HISPANIC\"]},\"id\":\"1172\",\"type\":\"Stack\"},{\"attributes\":{\"bottom\":{\"expr\":{\"id\":\"1168\",\"type\":\"Stack\"}},\"fill_color\":{\"value\":\"#6baed6\"},\"line_color\":{\"value\":\"#6baed6\"},\"top\":{\"expr\":{\"id\":\"1169\",\"type\":\"Stack\"}},\"width\":{\"value\":0.9},\"x\":{\"field\":\"complaint_year\"}},\"id\":\"1190\",\"type\":\"VBar\"},{\"attributes\":{\"data_source\":{\"id\":\"1327\",\"type\":\"ColumnDataSource\"},\"glyph\":{\"id\":\"1329\",\"type\":\"VBar\"},\"hover_glyph\":null,\"muted_glyph\":null,\"name\":\"OTHERS\",\"nonselection_glyph\":{\"id\":\"1330\",\"type\":\"VBar\"},\"selection_glyph\":null,\"view\":{\"id\":\"1332\",\"type\":\"CDSView\"}},\"id\":\"1331\",\"type\":\"GlyphRenderer\"},{\"attributes\":{},\"id\":\"1252\",\"type\":\"CategoricalTicker\"},{\"attributes\":{},\"id\":\"1344\",\"type\":\"Selection\"},{\"attributes\":{},\"id\":\"1247\",\"type\":\"CategoricalScale\"},{\"attributes\":{\"bottom\":{\"expr\":{\"id\":\"1172\",\"type\":\"Stack\"}},\"fill_color\":{\"value\":\"#c6dbef\"},\"line_color\":{\"value\":\"#c6dbef\"},\"top\":{\"expr\":{\"id\":\"1173\",\"type\":\"Stack\"}},\"width\":{\"value\":0.9},\"x\":{\"field\":\"complaint_year\"}},\"id\":\"1222\",\"type\":\"VBar\"},{\"attributes\":{\"bottom\":{\"expr\":{\"id\":\"1273\",\"type\":\"Stack\"}},\"fill_color\":{\"value\":\"#3182bd\"},\"line_color\":{\"value\":\"#3182bd\"},\"top\":{\"expr\":{\"id\":\"1274\",\"type\":\"Stack\"}},\"width\":{\"value\":0.9},\"x\":{\"field\":\"complaint_year\"}},\"id\":\"1283\",\"type\":\"VBar\"},{\"attributes\":{},\"id\":\"1384\",\"type\":\"UnionRenderers\"},{\"attributes\":{\"bottom_units\":\"screen\",\"fill_alpha\":{\"value\":0.5},\"fill_color\":{\"value\":\"lightgrey\"},\"left_units\":\"screen\",\"level\":\"overlay\",\"line_alpha\":{\"value\":1.0},\"line_color\":{\"value\":\"black\"},\"line_dash\":[4,4],\"line_width\":{\"value\":2},\"render_mode\":\"css\",\"right_units\":\"screen\",\"top_units\":\"screen\"},\"id\":\"1292\",\"type\":\"BoxAnnotation\"},{\"attributes\":{\"source\":{\"id\":\"1281\",\"type\":\"ColumnDataSource\"}},\"id\":\"1286\",\"type\":\"CDSView\"},{\"attributes\":{\"bottom\":{\"expr\":{\"id\":\"1279\",\"type\":\"Stack\"}},\"fill_alpha\":{\"value\":0.1},\"fill_color\":{\"value\":\"#1f77b4\"},\"line_alpha\":{\"value\":0.1},\"line_color\":{\"value\":\"#1f77b4\"},\"top\":{\"expr\":{\"id\":\"1280\",\"type\":\"Stack\"}},\"width\":{\"value\":0.9},\"x\":{\"field\":\"complaint_year\"}},\"id\":\"1330\",\"type\":\"VBar\"},{\"attributes\":{\"axis_label\":\"Year\",\"formatter\":{\"id\":\"1289\",\"type\":\"CategoricalTickFormatter\"},\"minor_tick_line_color\":{\"value\":null},\"ticker\":{\"id\":\"1252\",\"type\":\"CategoricalTicker\"}},\"id\":\"1251\",\"type\":\"CategoricalAxis\"},{\"attributes\":{\"child\":{\"id\":\"1240\",\"subtype\":\"Figure\",\"type\":\"Plot\"},\"title\":\"Proportion\"},\"id\":\"1346\",\"type\":\"Panel\"},{\"attributes\":{},\"id\":\"1218\",\"type\":\"Selection\"},{\"attributes\":{},\"id\":\"1156\",\"type\":\"SaveTool\"},{\"attributes\":{},\"id\":\"1375\",\"type\":\"UnionRenderers\"},{\"attributes\":{},\"id\":\"1217\",\"type\":\"UnionRenderers\"},{\"attributes\":{\"below\":[{\"id\":\"1144\",\"type\":\"CategoricalAxis\"}],\"center\":[{\"id\":\"1147\",\"type\":\"Grid\"},{\"id\":\"1152\",\"type\":\"Grid\"},{\"id\":\"1186\",\"type\":\"Legend\"}],\"left\":[{\"id\":\"1148\",\"type\":\"LinearAxis\"}],\"outline_line_color\":{\"value\":null},\"plot_height\":300,\"renderers\":[{\"id\":\"1178\",\"type\":\"GlyphRenderer\"},{\"id\":\"1192\",\"type\":\"GlyphRenderer\"},{\"id\":\"1207\",\"type\":\"GlyphRenderer\"},{\"id\":\"1224\",\"type\":\"GlyphRenderer\"}],\"title\":{\"id\":\"1134\",\"type\":\"Title\"},\"toolbar\":{\"id\":\"1159\",\"type\":\"Toolbar\"},\"x_range\":{\"id\":\"1136\",\"type\":\"FactorRange\"},\"x_scale\":{\"id\":\"1140\",\"type\":\"CategoricalScale\"},\"y_range\":{\"id\":\"1138\",\"type\":\"DataRange1d\"},\"y_scale\":{\"id\":\"1142\",\"type\":\"LinearScale\"}},\"id\":\"1133\",\"subtype\":\"Figure\",\"type\":\"Plot\"},{\"attributes\":{},\"id\":\"1157\",\"type\":\"ResetTool\"},{\"attributes\":{\"child\":{\"id\":\"1133\",\"subtype\":\"Figure\",\"type\":\"Plot\"},\"title\":\"Number\"},\"id\":\"1239\",\"type\":\"Panel\"},{\"attributes\":{},\"id\":\"1201\",\"type\":\"Selection\"},{\"attributes\":{\"source\":{\"id\":\"1203\",\"type\":\"ColumnDataSource\"}},\"id\":\"1208\",\"type\":\"CDSView\"},{\"attributes\":{\"callback\":null,\"factors\":[\"2000\",\"2001\",\"2002\",\"2003\",\"2004\",\"2005\",\"2006\",\"2007\",\"2008\",\"2009\",\"2010\",\"2011\",\"2012\",\"2013\",\"2014\",\"2015\",\"2016\"],\"range_padding\":0.1},\"id\":\"1136\",\"type\":\"FactorRange\"},{\"attributes\":{\"active_drag\":\"auto\",\"active_inspect\":\"auto\",\"active_multi\":null,\"active_scroll\":\"auto\",\"active_tap\":\"auto\",\"tools\":[{\"id\":\"1153\",\"type\":\"PanTool\"},{\"id\":\"1154\",\"type\":\"WheelZoomTool\"},{\"id\":\"1155\",\"type\":\"BoxZoomTool\"},{\"id\":\"1156\",\"type\":\"SaveTool\"},{\"id\":\"1157\",\"type\":\"ResetTool\"},{\"id\":\"1158\",\"type\":\"HelpTool\"}]},\"id\":\"1159\",\"type\":\"Toolbar\"},{\"attributes\":{\"source\":{\"id\":\"1188\",\"type\":\"ColumnDataSource\"}},\"id\":\"1193\",\"type\":\"CDSView\"},{\"attributes\":{\"data_source\":{\"id\":\"1188\",\"type\":\"ColumnDataSource\"},\"glyph\":{\"id\":\"1190\",\"type\":\"VBar\"},\"hover_glyph\":null,\"muted_glyph\":null,\"name\":\"BLACK\",\"nonselection_glyph\":{\"id\":\"1191\",\"type\":\"VBar\"},\"selection_glyph\":null,\"view\":{\"id\":\"1193\",\"type\":\"CDSView\"}},\"id\":\"1192\",\"type\":\"GlyphRenderer\"},{\"attributes\":{\"label\":{\"value\":\"hispanic\"},\"renderers\":[{\"id\":\"1314\",\"type\":\"GlyphRenderer\"}]},\"id\":\"1326\",\"type\":\"LegendItem\"},{\"attributes\":{\"fields\":[\"WHITE\",\"BLACK\"]},\"id\":\"1169\",\"type\":\"Stack\"},{\"attributes\":{\"callback\":null,\"data\":{\"BLACK\":[2110,1938,2019,1734,1385,597,234,705,593,522,404,546,390,451,314,265,89],\"HISPANIC\":[1166,1327,1380,1211,1057,408,181,533,408,457,397,444,387,329,285,232,89],\"OTHERS\":[163,174,177,191,129,55,28,80,63,81,62,78,74,73,53,48,9],\"WHITE\":[3434,3676,3795,3149,2538,1075,436,1131,915,914,821,836,769,662,533,421,177],\"complaint_year\":[\"2000\",\"2001\",\"2002\",\"2003\",\"2004\",\"2005\",\"2006\",\"2007\",\"2008\",\"2009\",\"2010\",\"2011\",\"2012\",\"2013\",\"2014\",\"2015\",\"2016\"],\"index\":[0,1,2,3,4,5,6,7,8,9,10,11,12,13,14,15,16]},\"selected\":{\"id\":\"1237\",\"type\":\"Selection\"},\"selection_policy\":{\"id\":\"1236\",\"type\":\"UnionRenderers\"}},\"id\":\"1203\",\"type\":\"ColumnDataSource\"},{\"attributes\":{\"callback\":null,\"start\":0},\"id\":\"1245\",\"type\":\"DataRange1d\"},{\"attributes\":{},\"id\":\"1154\",\"type\":\"WheelZoomTool\"},{\"attributes\":{},\"id\":\"1158\",\"type\":\"HelpTool\"},{\"attributes\":{\"below\":[{\"id\":\"1251\",\"type\":\"CategoricalAxis\"}],\"center\":[{\"id\":\"1254\",\"type\":\"Grid\"},{\"id\":\"1259\",\"type\":\"Grid\"},{\"id\":\"1293\",\"type\":\"Legend\"}],\"left\":[{\"id\":\"1255\",\"type\":\"LinearAxis\"}],\"outline_line_color\":{\"value\":null},\"plot_height\":300,\"renderers\":[{\"id\":\"1285\",\"type\":\"GlyphRenderer\"},{\"id\":\"1299\",\"type\":\"GlyphRenderer\"},{\"id\":\"1314\",\"type\":\"GlyphRenderer\"},{\"id\":\"1331\",\"type\":\"GlyphRenderer\"}],\"title\":{\"id\":\"1241\",\"type\":\"Title\"},\"toolbar\":{\"id\":\"1266\",\"type\":\"Toolbar\"},\"x_range\":{\"id\":\"1243\",\"type\":\"FactorRange\"},\"x_scale\":{\"id\":\"1247\",\"type\":\"CategoricalScale\"},\"y_range\":{\"id\":\"1245\",\"type\":\"DataRange1d\"},\"y_scale\":{\"id\":\"1249\",\"type\":\"LinearScale\"}},\"id\":\"1240\",\"subtype\":\"Figure\",\"type\":\"Plot\"},{\"attributes\":{},\"id\":\"1140\",\"type\":\"CategoricalScale\"},{\"attributes\":{\"bottom\":{\"expr\":{\"id\":\"1168\",\"type\":\"Stack\"}},\"fill_alpha\":{\"value\":0.1},\"fill_color\":{\"value\":\"#1f77b4\"},\"line_alpha\":{\"value\":0.1},\"line_color\":{\"value\":\"#1f77b4\"},\"top\":{\"expr\":{\"id\":\"1169\",\"type\":\"Stack\"}},\"width\":{\"value\":0.9},\"x\":{\"field\":\"complaint_year\"}},\"id\":\"1191\",\"type\":\"VBar\"},{\"attributes\":{\"callback\":null,\"start\":0},\"id\":\"1138\",\"type\":\"DataRange1d\"},{\"attributes\":{},\"id\":\"1182\",\"type\":\"CategoricalTickFormatter\"},{\"attributes\":{\"label\":{\"value\":\"white\"},\"renderers\":[{\"id\":\"1178\",\"type\":\"GlyphRenderer\"}]},\"id\":\"1187\",\"type\":\"LegendItem\"},{\"attributes\":{\"callback\":null,\"data\":{\"BLACK\":[2110,1938,2019,1734,1385,597,234,705,593,522,404,546,390,451,314,265,89],\"HISPANIC\":[1166,1327,1380,1211,1057,408,181,533,408,457,397,444,387,329,285,232,89],\"OTHERS\":[163,174,177,191,129,55,28,80,63,81,62,78,74,73,53,48,9],\"WHITE\":[3434,3676,3795,3149,2538,1075,436,1131,915,914,821,836,769,662,533,421,177],\"complaint_year\":[\"2000\",\"2001\",\"2002\",\"2003\",\"2004\",\"2005\",\"2006\",\"2007\",\"2008\",\"2009\",\"2010\",\"2011\",\"2012\",\"2013\",\"2014\",\"2015\",\"2016\"],\"index\":[0,1,2,3,4,5,6,7,8,9,10,11,12,13,14,15,16]},\"selected\":{\"id\":\"1218\",\"type\":\"Selection\"},\"selection_policy\":{\"id\":\"1217\",\"type\":\"UnionRenderers\"}},\"id\":\"1188\",\"type\":\"ColumnDataSource\"},{\"attributes\":{},\"id\":\"1385\",\"type\":\"Selection\"},{\"attributes\":{\"items\":[{\"id\":\"1187\",\"type\":\"LegendItem\"},{\"id\":\"1202\",\"type\":\"LegendItem\"},{\"id\":\"1219\",\"type\":\"LegendItem\"},{\"id\":\"1238\",\"type\":\"LegendItem\"}],\"orientation\":\"horizontal\"},\"id\":\"1186\",\"type\":\"Legend\"},{\"attributes\":{},\"id\":\"1184\",\"type\":\"BasicTickFormatter\"},{\"attributes\":{\"data_source\":{\"id\":\"1203\",\"type\":\"ColumnDataSource\"},\"glyph\":{\"id\":\"1205\",\"type\":\"VBar\"},\"hover_glyph\":null,\"muted_glyph\":null,\"name\":\"HISPANIC\",\"nonselection_glyph\":{\"id\":\"1206\",\"type\":\"VBar\"},\"selection_glyph\":null,\"view\":{\"id\":\"1208\",\"type\":\"CDSView\"}},\"id\":\"1207\",\"type\":\"GlyphRenderer\"}],\"root_ids\":[\"1347\"]},\"title\":\"Bokeh Application\",\"version\":\"1.3.4\"}};\n",
       "  var render_items = [{\"docid\":\"7be52d5b-a419-4d33-87d8-419a42156ce1\",\"roots\":{\"1347\":\"68e3bb38-5efd-4d5f-a4c9-6a133e5bceff\"}}];\n",
       "  root.Bokeh.embed.embed_items_notebook(docs_json, render_items);\n",
       "\n",
       "  }\n",
       "  if (root.Bokeh !== undefined) {\n",
       "    embed_document(root);\n",
       "  } else {\n",
       "    var attempts = 0;\n",
       "    var timer = setInterval(function(root) {\n",
       "      if (root.Bokeh !== undefined) {\n",
       "        embed_document(root);\n",
       "        clearInterval(timer);\n",
       "      }\n",
       "      attempts++;\n",
       "      if (attempts > 100) {\n",
       "        console.log(\"Bokeh: ERROR: Unable to run BokehJS code because BokehJS library is missing\");\n",
       "        clearInterval(timer);\n",
       "      }\n",
       "    }, 10, root)\n",
       "  }\n",
       "})(window);"
      ],
      "application/vnd.bokehjs_exec.v0+json": ""
     },
     "metadata": {
      "application/vnd.bokehjs_exec.v0+json": {
       "id": "1347"
      }
     },
     "output_type": "display_data"
    }
   ],
   "source": [
    "races = ['WHITE', 'BLACK', 'HISPANIC', 'OTHERS']\n",
    "tabs = cpd_stackbar_tab(df_offc_race_num, df_offc_race_prop, groups = races)\n",
    "show(tabs)"
   ]
  },
  {
   "cell_type": "markdown",
   "metadata": {},
   "source": [
    "### Histogram: Distribution of Accusation\n",
    "\n",
    "* Slider Option"
   ]
  },
  {
   "cell_type": "code",
   "execution_count": 23,
   "metadata": {
    "scrolled": true
   },
   "outputs": [],
   "source": [
    "df_num_acc = cpd_analyzer(df_all, group = ['race'], field = ['UID_acc'], prop = False)"
   ]
  },
  {
   "cell_type": "code",
   "execution_count": 24,
   "metadata": {},
   "outputs": [],
   "source": [
    "def cpd_binning(df, binwidth):\n",
    "    df = df.groupby(['race', pd.cut(df['UID_acc(N)'], bins = [i for i in range(0,60, binwidth)])]).count()\n",
    "    df = df_reconfig(df)\n",
    "    df['UID_acc(N)'] = df['UID_acc(N)'].astype(str)\n",
    "    df = df \\\n",
    "    .assign(OTHERS = lambda df:df['ASIAN/PACIFIC ISLANDER'] + df['NATIVE AMERICAN/ALASKAN NATIVE'])\\\n",
    "    .drop(columns = ['ASIAN/PACIFIC ISLANDER', 'NATIVE AMERICAN/ALASKAN NATIVE'])\n",
    "    \n",
    "    return(df)"
   ]
  },
  {
   "cell_type": "code",
   "execution_count": 25,
   "metadata": {},
   "outputs": [],
   "source": [
    "def cpd_stackbar_bin(df, groups):\n",
    "    colors = [i for i in color_gen(len(groups))]\n",
    "    names = [i.lower() for i in groups]\n",
    "\n",
    "    plot = figure(title='Distribution of Accusation',\n",
    "                  x_axis_label='Total Accusation', y_axis_label='Officers', \n",
    "                  x_range=df['UID_acc(N)'], plot_height = 300)\n",
    "    plot.vbar_stack(groups, x = 'UID_acc(N)', width=0.8, color = colors, source = df, legend = names)\n",
    "    plot.y_range.start = 0\n",
    "    plot.x_range.range_padding = 0.1\n",
    "    plot.xgrid.grid_line_color = None\n",
    "    plot.axis.minor_tick_line_color = None\n",
    "    plot.outline_line_color = None\n",
    "    plot.legend.location = \"top_right\"\n",
    "    plot.legend.orientation = \"horizontal\"\n",
    "    plot.xaxis.major_label_orientation = 1.2\n",
    "        \n",
    "    return plot"
   ]
  },
  {
   "cell_type": "code",
   "execution_count": 26,
   "metadata": {},
   "outputs": [
    {
     "data": {
      "application/vnd.jupyter.widget-view+json": {
       "model_id": "170bae9e520e43dbb5a9b3556236377d",
       "version_major": 2,
       "version_minor": 0
      },
      "text/plain": [
       "interactive(children=(IntSlider(value=4, description='Bins', max=20, min=2), Output()), _dom_classes=('widget-…"
      ]
     },
     "metadata": {},
     "output_type": "display_data"
    }
   ],
   "source": [
    "@interact(Bins=(2, 20))\n",
    "def slider(Bins=4):\n",
    "    df = cpd_binning(df_num_acc, Bins)\n",
    "    plot = cpd_stackbar_bin(df, groups = races)\n",
    "    show(plot)"
   ]
  },
  {
   "cell_type": "markdown",
   "metadata": {},
   "source": [
    "### Multiple widgets: Complaints Category and Incident Location Ranking\n",
    "\n",
    "* Dropdown Menu\n",
    "* Slider Bar\n",
    "* Checkbox\n",
    "* Tabs\n",
    "* Hover over the Pie Chart"
   ]
  },
  {
   "cell_type": "code",
   "execution_count": 27,
   "metadata": {},
   "outputs": [],
   "source": [
    "df_comtype = cpd_analyzer(df_all, group = ['complainant_type','incident_location'],\n",
    "                          field = ['current_complaint_category'], prop = False)"
   ]
  },
  {
   "cell_type": "code",
   "execution_count": 28,
   "metadata": {},
   "outputs": [],
   "source": [
    "df_comtype = df_reconfig(df_comtype, level = 1)"
   ]
  },
  {
   "cell_type": "code",
   "execution_count": 29,
   "metadata": {},
   "outputs": [],
   "source": [
    "def cpd_rankplot_pie_tab(df, types, rank, prop = False):\n",
    "    title = ['Complaints', 'Locations']\n",
    "    kinds = ['current_complaint_category', 'incident_location']\n",
    "    bywho = [types]\n",
    "    \n",
    "    tbs = []\n",
    "    for title, kind in zip(title, kinds):\n",
    "        df = df_comtype.groupby(kind).sum()\n",
    "        plt = []\n",
    "        for who in bywho:\n",
    "            df_sorted = df.sort_values(who)\n",
    "            xlab = 'Number of Complaints'\n",
    "           \n",
    "            if prop: \n",
    "                df_sorted = df_sorted.apply(lambda x:x/x.sum()*100)\n",
    "                xlab = 'Percentage of Complaints'\n",
    "                \n",
    "            df_ranked = copy.deepcopy(df_sorted.tail(rank)[::-1])\n",
    "            df_ranked.loc['RANK {}~{}'.format(rank+1,len(df_sorted)),:] = df_sorted.head(len(df_sorted)-rank).sum(axis = 0)\n",
    "            df_ranked = df_ranked.reset_index()\n",
    "            df_ranked.columns.rename(None, inplace=True)\n",
    "            df_ranked.index = np.arange(1, len(df_ranked) + 1)\n",
    "            df_ranked['angle'] = df_ranked[who]/df_ranked[who].sum() * 2*pi\n",
    "            df_ranked['color'] = Category20c[len(df_ranked)]\n",
    "            df_ranked = df_ranked[::-1]\n",
    "            df_ranked['color'][len(df_ranked)]='#d9d9d9'\n",
    "                        \n",
    "            yrange = [i for i in df_ranked[kind]]\n",
    "            plot1 = figure(title = 'Top {} {} by {}'.format(rank, title, who), \n",
    "                           x_axis_label = xlab, y_axis_label = 'Category',\n",
    "                           y_range = yrange, plot_height = 300)\n",
    "            plot1.hbar(y = kind, right = who, height = 0.8,\n",
    "                       line_color=\"white\", fill_color='color', \n",
    "                       source = df_ranked)\n",
    "            plot1.ygrid.grid_line_color = None\n",
    "            plot1.x_range.start = 0\n",
    "            plt.append(plot1)\n",
    "\n",
    "            \n",
    "            plot2 = figure(plot_height=300, title = 'Pie Chart',\n",
    "                           toolbar_location=None,\n",
    "                           tools=\"hover\", tooltips=\"@{}: @{}\".format(kind, who), x_range=(-0.5, 1.0))\n",
    "            plot2.wedge(x=0, y=1, radius=0.28,\n",
    "                        start_angle=cumsum('angle', include_zero=True), end_angle=cumsum('angle'),\n",
    "                        line_color=\"white\", fill_color='color', source=df_ranked)\n",
    "            plot2.axis.axis_label=None\n",
    "            plot2.axis.visible=False\n",
    "            plot2.grid.grid_line_color = None\n",
    "            plt.append(plot2)\n",
    "\n",
    "        plots = gridplot([plt])\n",
    "        tbs.append(Panel(child = plots, title = '{}'.format(title)))\n",
    "   \n",
    "    tabs = Tabs(tabs = tbs)\n",
    "    return tabs"
   ]
  },
  {
   "cell_type": "code",
   "execution_count": 30,
   "metadata": {},
   "outputs": [
    {
     "data": {
      "application/vnd.jupyter.widget-view+json": {
       "model_id": "f774ebf1f39a4cf2953dcff175c15384",
       "version_major": 2,
       "version_minor": 0
      },
      "text/plain": [
       "interactive(children=(Dropdown(description='Type', options=('CIVILIAN', 'CPD_EMPLOYEE'), value='CIVILIAN'), In…"
      ]
     },
     "metadata": {},
     "output_type": "display_data"
    }
   ],
   "source": [
    "types = ['CIVILIAN','CPD_EMPLOYEE']\n",
    "@interact_manual(Type = types, Rank=(3, 19), Percentage = False)\n",
    "def dropdown_slider_checkbox_tab(Type = types[0], Rank = 19, Percentage = False):\n",
    "    tabs = cpd_rankplot_pie_tab(df_comtype, Type, Rank, Percentage)\n",
    "    show(tabs)"
   ]
  },
  {
   "cell_type": "code",
   "execution_count": null,
   "metadata": {},
   "outputs": [],
   "source": []
  }
 ],
 "metadata": {
  "kernelspec": {
   "display_name": "Python 3",
   "language": "python",
   "name": "python3"
  },
  "language_info": {
   "codemirror_mode": {
    "name": "ipython",
    "version": 3
   },
   "file_extension": ".py",
   "mimetype": "text/x-python",
   "name": "python",
   "nbconvert_exporter": "python",
   "pygments_lexer": "ipython3",
   "version": "3.7.4"
  },
  "toc": {
   "base_numbering": 1,
   "nav_menu": {},
   "number_sections": false,
   "sideBar": true,
   "skip_h1_title": false,
   "title_cell": "Table of Contents",
   "title_sidebar": "Contents",
   "toc_cell": false,
   "toc_position": {},
   "toc_section_display": true,
   "toc_window_display": false
  }
 },
 "nbformat": 4,
 "nbformat_minor": 2
}
